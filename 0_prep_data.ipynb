{
 "cells": [
  {
   "cell_type": "markdown",
   "id": "950fdffd-7e42-40ed-b17b-684f460dd8dc",
   "metadata": {},
   "source": [
    "# Goal of Notebook\n",
    "In this notebook, we will prep the Visium objects, filter the "
   ]
  },
  {
   "cell_type": "markdown",
   "id": "ec5b6e3e-d545-4fbd-a2d7-8cc4c26a2010",
   "metadata": {},
   "source": [
    "# Load Modules"
   ]
  },
  {
   "cell_type": "code",
   "id": "f7e1046b-4136-4427-84ab-a0a35da91244",
   "metadata": {
    "jupyter": {
     "is_executing": true
    }
   },
   "source": [
    "import os\n",
    "import matplotlib.pyplot as plt\n",
    "import numpy as np\n",
    "import scanpy as sc\n",
    "import pandas as pd\n",
    "import squidpy as sq\n",
    "import importlib\n",
    "import anndata as an \n",
    "import seaborn as sns\n",
    "\n",
    "from spatialdata_io import visium_hd"
   ],
   "outputs": [],
   "execution_count": null
  },
  {
   "cell_type": "code",
   "id": "18c37323-c9d2-42f0-aaab-f3c18f6bbd1c",
   "metadata": {},
   "source": [
    "from spatialdata_io import visium_hd"
   ],
   "outputs": [],
   "execution_count": null
  },
  {
   "metadata": {},
   "cell_type": "code",
   "source": [
    "os.getcwd()\n",
    "os.chdir(\"/home/plopez/data/Projects/SC_placenta/Visium_workspace\")"
   ],
   "id": "4aa9338fbd0b1ab0",
   "outputs": [],
   "execution_count": null
  },
  {
   "metadata": {},
   "cell_type": "code",
   "source": [
    "## import functions\n",
    "sys.path.append(\"/home/plopez/data/Projects/SC_placenta/Visium_workspace/Code_workspace/helpful_functions\")\n",
    "import prepping_core as func\n",
    "importlib.reload(func)"
   ],
   "id": "6265ae0c7f457cd2",
   "outputs": [],
   "execution_count": null
  },
  {
   "cell_type": "markdown",
   "id": "7e426c02-a386-4e67-8146-8fd5ab3bf648",
   "metadata": {},
   "source": [
    "# Import object"
   ]
  },
  {
   "cell_type": "markdown",
   "id": "0b7d856d-7db3-4f8b-a6da-e2ce28b9b587",
   "metadata": {},
   "source": [
    "## TMA2 - 140"
   ]
  },
  {
   "cell_type": "markdown",
   "id": "47e3e9aa-0b50-4f65-8346-275af91e5020",
   "metadata": {},
   "source": [
    "### load spatialdata obj"
   ]
  },
  {
   "cell_type": "code",
   "id": "70a30b1e-f7f8-4975-b174-d49c850b822b",
   "metadata": {},
   "source": [
    "sdata = visium_hd(\"raw_data/TMA2-140/outs/\",bin_size=8,dataset_id = \"TMA2_140\",\n",
    "                  fullres_image_file=\"raw_data/TMA2-140/outs/binned_outputs/square_008um/spatial/tissue_hires_image.png\")"
   ],
   "outputs": [],
   "execution_count": null
  },
  {
   "cell_type": "code",
   "id": "da7295b5-af7e-4262-b7d5-57de9a854628",
   "metadata": {},
   "source": [
    "for table in sdata.tables.values():\n",
    "    table.var_names_make_unique()"
   ],
   "outputs": [],
   "execution_count": null
  },
  {
   "cell_type": "code",
   "id": "ef084252-2f5d-4e9a-9310-c2310ddd1133",
   "metadata": {},
   "source": [
    "adata = sdata.tables"
   ],
   "outputs": [],
   "execution_count": null
  },
  {
   "cell_type": "code",
   "id": "1d773373-d517-4432-8311-2fa7654af431",
   "metadata": {},
   "source": [
    "sq.pl.spatial_scatter(\n",
    "            adata['square_008um'],\n",
    "            shape=None,            # must be positional\n",
    "            library_id=\"spatial\",\n",
    "            use_raw=False,\n",
    "            color=[\"ACTA2\"]\n",
    "        )"
   ],
   "outputs": [],
   "execution_count": null
  },
  {
   "metadata": {},
   "cell_type": "markdown",
   "source": "### merge with coordinates",
   "id": "f200e404143a35f"
  },
  {
   "metadata": {},
   "cell_type": "code",
   "source": [
    "adata_fixed = func.annotate_adata_with_tissue_core(adata,\n",
    "                                              obs_key= 'square_008um',\n",
    "                                              barcode_csv_path = \"data/TMA_input_coordinates/TMA2140_cell_coordinates.csv\",\n",
    "                                              drop_nan =True)\n"
   ],
   "id": "93716bfbe2e2e391",
   "outputs": [],
   "execution_count": null
  },
  {
   "metadata": {},
   "cell_type": "markdown",
   "source": "### merge with metdata",
   "id": "5a03c34858030e28"
  },
  {
   "metadata": {},
   "cell_type": "code",
   "source": [
    "adata = func.add_patient_condition_from_metadata(\n",
    "    adata,\n",
    "    obs_key='square_008um',\n",
    "    metadata_path='Code_workspace/visium_metadata_V1.xlsx'\n",
    ")\n"
   ],
   "id": "f3a44b6cf1ed114e",
   "outputs": [],
   "execution_count": null
  },
  {
   "metadata": {},
   "cell_type": "markdown",
   "source": "### Save Obj",
   "id": "b760fda35a1718ad"
  },
  {
   "metadata": {},
   "cell_type": "code",
   "source": "adata['square_008um'].write_h5ad(\"data/0_preped_h5ad_obj_metadata/TMA2140_obj_V1.h5ad\")",
   "id": "7af4dceabe2eee59",
   "outputs": [],
   "execution_count": null
  },
  {
   "metadata": {},
   "cell_type": "code",
   "source": "adata['square_008um']",
   "id": "acbc2a8e9e4ef010",
   "outputs": [],
   "execution_count": null
  },
  {
   "metadata": {},
   "cell_type": "code",
   "source": [
    "sq.pl.spatial_scatter(\n",
    "            adata['square_008um'],\n",
    "            shape=None,            # must be positional\n",
    "            library_id=\"spatial\",\n",
    "            use_raw=False,\n",
    "            color=[\"PSG5\"]\n",
    "        )"
   ],
   "id": "342ae506d707b808",
   "outputs": [],
   "execution_count": null
  },
  {
   "metadata": {},
   "cell_type": "markdown",
   "source": "## TMA2 - 145",
   "id": "551513c71c9b94ff"
  },
  {
   "metadata": {},
   "cell_type": "markdown",
   "source": "### Load obj ",
   "id": "78efabc407bb9b4"
  },
  {
   "metadata": {},
   "cell_type": "code",
   "source": [
    "sdata = visium_hd(\"raw_data/TMA2-145/outs/\",bin_size=8,dataset_id = \"TMA2_145\",\n",
    "                  fullres_image_file=\"raw_data/TMA2-145/outs/binned_outputs/square_008um/spatial/tissue_hires_image.png\")"
   ],
   "id": "e5bd439c54694e86",
   "outputs": [],
   "execution_count": null
  },
  {
   "metadata": {},
   "cell_type": "code",
   "source": [
    "for table in sdata.tables.values():\n",
    "    table.var_names_make_unique()"
   ],
   "id": "4d3bd7c115c98807",
   "outputs": [],
   "execution_count": null
  },
  {
   "metadata": {},
   "cell_type": "code",
   "source": "adata = sdata.tables",
   "id": "776099670818a8c9",
   "outputs": [],
   "execution_count": null
  },
  {
   "metadata": {},
   "cell_type": "code",
   "source": "adata",
   "id": "8db122aba8290c49",
   "outputs": [],
   "execution_count": null
  },
  {
   "metadata": {},
   "cell_type": "markdown",
   "source": "### merge with coordinate",
   "id": "ae8059e5ac35ad75"
  },
  {
   "metadata": {},
   "cell_type": "code",
   "source": [
    "adata_fixed = func.annotate_adata_with_tissue_core(adata,\n",
    "                                              obs_key= 'square_008um',\n",
    "                                              barcode_csv_path = \"data/TMA_input_coordinates/TMA2145.csv\",\n",
    "                                              drop_nan =True)\n"
   ],
   "id": "cb3c1ad69790506",
   "outputs": [],
   "execution_count": null
  },
  {
   "metadata": {},
   "cell_type": "markdown",
   "source": "### merge with metadata",
   "id": "cae3db2af9886d94"
  },
  {
   "metadata": {},
   "cell_type": "code",
   "source": [
    "adata = func.add_patient_condition_from_metadata(\n",
    "    adata_fixed,\n",
    "    obs_key='square_008um',\n",
    "    metadata_path='Code_workspace/visium_metadata_V1.xlsx'\n",
    ")\n"
   ],
   "id": "3e538ee938580190",
   "outputs": [],
   "execution_count": null
  },
  {
   "metadata": {},
   "cell_type": "code",
   "source": [
    "sq.pl.spatial_scatter(\n",
    "            adata['square_008um'],\n",
    "            shape=None,            # must be positional\n",
    "            library_id=\"spatial\",\n",
    "            use_raw=False,\n",
    "            color=[\"Patient\"]\n",
    "        )"
   ],
   "id": "fb3830326392337",
   "outputs": [],
   "execution_count": null
  },
  {
   "metadata": {},
   "cell_type": "markdown",
   "source": "### ssave obj ",
   "id": "ac7b22c696410c34"
  },
  {
   "metadata": {},
   "cell_type": "code",
   "source": "adata['square_008um'].write_h5ad(\"data/0_preped_h5ad_obj_metadata/TMA2145_obj_V1.h5ad\")",
   "id": "9f937e189e45ad48",
   "outputs": [],
   "execution_count": null
  },
  {
   "metadata": {},
   "cell_type": "markdown",
   "source": "## TMA4",
   "id": "36b9f4ed803bd6cb"
  },
  {
   "metadata": {},
   "cell_type": "markdown",
   "source": "### load obj ",
   "id": "b7dd044ea109baa8"
  },
  {
   "metadata": {},
   "cell_type": "code",
   "source": [
    "sdata = visium_hd(\"raw_data/TMA4/outs/\",bin_size=8,dataset_id = \"TMA4\",\n",
    "                  fullres_image_file=\"raw_data/TMA4/outs/binned_outputs/square_008um/spatial/tissue_hires_image.png\")"
   ],
   "id": "305fdf88cb813259",
   "outputs": [],
   "execution_count": null
  },
  {
   "metadata": {},
   "cell_type": "code",
   "source": [
    "for table in sdata.tables.values():\n",
    "    table.var_names_make_unique()"
   ],
   "id": "16e43bfae2bfcaec",
   "outputs": [],
   "execution_count": null
  },
  {
   "metadata": {},
   "cell_type": "code",
   "source": [
    "adata = sdata.tables\n",
    "adata"
   ],
   "id": "68658a21197d2d6f",
   "outputs": [],
   "execution_count": null
  },
  {
   "metadata": {},
   "cell_type": "markdown",
   "source": "### merge with coordinate ",
   "id": "53f0d556e30b3dbe"
  },
  {
   "metadata": {},
   "cell_type": "code",
   "source": [
    "adata_fixed = func.annotate_adata_with_tissue_core(adata,\n",
    "                                              obs_key= 'square_008um',\n",
    "                                              barcode_csv_path = \"data/TMA_input_coordinates/TMA4.csv\",\n",
    "                                              drop_nan =True)\n"
   ],
   "id": "1424da801d65e570",
   "outputs": [],
   "execution_count": null
  },
  {
   "metadata": {},
   "cell_type": "markdown",
   "source": "### merge with metadata",
   "id": "d64be0a5effbe79"
  },
  {
   "metadata": {},
   "cell_type": "code",
   "source": [
    "adata = func.add_patient_condition_from_metadata(\n",
    "    adata_fixed,\n",
    "    obs_key='square_008um',\n",
    "    metadata_path='Code_workspace/visium_metadata_V1.xlsx'\n",
    ")\n"
   ],
   "id": "21a4fe4916c65bea",
   "outputs": [],
   "execution_count": null
  },
  {
   "metadata": {},
   "cell_type": "code",
   "source": [
    "sq.pl.spatial_scatter(\n",
    "            adata['square_008um'],\n",
    "            shape=None,            # must be positional\n",
    "            library_id=\"spatial\",\n",
    "            use_raw=False,\n",
    "            color=[\"Condition\",\"Patient\"]\n",
    "        )"
   ],
   "id": "4ea39caa5171990a",
   "outputs": [],
   "execution_count": null
  },
  {
   "metadata": {},
   "cell_type": "markdown",
   "source": "### save obj ",
   "id": "5ab5ffc59ce26c24"
  },
  {
   "metadata": {},
   "cell_type": "code",
   "source": "adata['square_008um'].write_h5ad(\"data/0_preped_h5ad_obj_metadata/TMA4_obj_V1.h5ad\")",
   "id": "342cdc61b9c6fec2",
   "outputs": [],
   "execution_count": null
  },
  {
   "metadata": {},
   "cell_type": "markdown",
   "source": "## TMA 9",
   "id": "3a6629fb17e7785b"
  },
  {
   "metadata": {},
   "cell_type": "markdown",
   "source": "### load obj ",
   "id": "6ea084bf4c1f1449"
  },
  {
   "metadata": {},
   "cell_type": "code",
   "source": [
    "sdata = visium_hd(\"raw_data/TMA9/outs/\",bin_size=8,dataset_id = \"TMA9\",\n",
    "                  fullres_image_file=\"raw_data/TMA9/outs/binned_outputs/square_008um/spatial/tissue_hires_image.png\")"
   ],
   "id": "1b89614b8c527689",
   "outputs": [],
   "execution_count": null
  },
  {
   "metadata": {},
   "cell_type": "code",
   "source": [
    "for table in sdata.tables.values():\n",
    "    table.var_names_make_unique()"
   ],
   "id": "632760ea39378b27",
   "outputs": [],
   "execution_count": null
  },
  {
   "metadata": {},
   "cell_type": "code",
   "source": [
    "adata = sdata.tables\n",
    "adata"
   ],
   "id": "4d081569f07ebec6",
   "outputs": [],
   "execution_count": null
  },
  {
   "metadata": {},
   "cell_type": "markdown",
   "source": "### merge with coordinate ",
   "id": "3f0037bc1dc48a34"
  },
  {
   "metadata": {},
   "cell_type": "code",
   "source": [
    "adata_fixed = func.annotate_adata_with_tissue_core(adata,\n",
    "                                              obs_key= 'square_008um',\n",
    "                                              barcode_csv_path = \"data/TMA_input_coordinates/TMA9.csv\",\n",
    "                                              drop_nan =True)\n"
   ],
   "id": "15d46eda5086d7b4",
   "outputs": [],
   "execution_count": null
  },
  {
   "metadata": {},
   "cell_type": "markdown",
   "source": "### merge with metadata ",
   "id": "2f4d5fed5fd653d6"
  },
  {
   "metadata": {},
   "cell_type": "code",
   "source": [
    "adata = func.add_patient_condition_from_metadata(\n",
    "    adata_fixed,\n",
    "    obs_key='square_008um',\n",
    "    metadata_path='Code_workspace/visium_metadata_V1.xlsx'\n",
    ")\n"
   ],
   "id": "10a81b208886aa33",
   "outputs": [],
   "execution_count": null
  },
  {
   "metadata": {},
   "cell_type": "code",
   "source": [
    "sq.pl.spatial_scatter(\n",
    "            adata['square_008um'],\n",
    "            shape=None,            # must be positional\n",
    "            library_id=\"spatial\",\n",
    "            use_raw=False,\n",
    "            color=[\"Condition\",\"Patient\"]\n",
    "        )"
   ],
   "id": "9daa628be783a972",
   "outputs": [],
   "execution_count": null
  },
  {
   "metadata": {},
   "cell_type": "code",
   "source": "adata['square_008um'].write_h5ad(\"data/0_preped_h5ad_obj_metadata/TMA9_obj_V1.h5ad\")",
   "id": "2102f818f9b80ce6",
   "outputs": [],
   "execution_count": null
  },
  {
   "metadata": {},
   "cell_type": "markdown",
   "source": "# QC of objects",
   "id": "eedb08bb112e399e"
  },
  {
   "metadata": {},
   "cell_type": "markdown",
   "source": "## TMA2 140",
   "id": "f45b0b14a4656b4c"
  },
  {
   "metadata": {},
   "cell_type": "markdown",
   "source": "### load obj",
   "id": "cb8f3928a26a38da"
  },
  {
   "metadata": {},
   "cell_type": "code",
   "source": [
    "tma2_140_obj = an.read_h5ad(\"data/0_preped_h5ad_obj_metadata/TMA2140_obj_V1.h5ad\")\n",
    "tma2_140_obj.obs[\"TMA_num\"] = tma2_140_obj.obs[\"Row_num\"].str.extract(r'^(TMA\\d+)')"
   ],
   "id": "42d05bcd41da822b",
   "outputs": [],
   "execution_count": null
  },
  {
   "metadata": {},
   "cell_type": "code",
   "source": [
    "sq.pl.spatial_scatter(\n",
    "            tma2_140_obj,\n",
    "            shape=None,            # must be positional\n",
    "            library_id=\"spatial\",\n",
    "            use_raw=False,\n",
    "            color=[\"Patient\",\"Tissue_core\",\"Condition\"]\n",
    "        )"
   ],
   "id": "697bdce93cf8d69b",
   "outputs": [],
   "execution_count": null
  },
  {
   "metadata": {},
   "cell_type": "code",
   "source": [
    "tma2_140_obj.var_names_make_unique()\n",
    "tma2_140_obj.var[\"mt\"] = tma2_140_obj.var_names.str.startswith(\"MT-\")\n",
    "sc.pp.calculate_qc_metrics(tma2_140_obj, qc_vars=[\"mt\"], inplace=True)"
   ],
   "id": "41c7b020101458d9",
   "outputs": [],
   "execution_count": null
  },
  {
   "metadata": {},
   "cell_type": "markdown",
   "source": "### plot QC",
   "id": "5f626b936e6004c4"
  },
  {
   "metadata": {},
   "cell_type": "code",
   "source": [
    "fig, axs = plt.subplots(1, 3, figsize=(12, 3))\n",
    "sns.histplot(tma2_140_obj.obs[\"total_counts\"], kde=False, ax=axs[0])\n",
    "sns.histplot(tma2_140_obj.obs[\"n_genes_by_counts\"], kde=False, bins=60, ax=axs[1])\n",
    "sc.pl.violin(tma2_140_obj, \"pct_counts_mt\",ax = axs[2])\n",
    "\n",
    "#sns.histplot(tma2_140_obj.obs[\"n_genes_by_counts\"], kde=False, bins=60, ax=axs[2])\n"
   ],
   "id": "7d5737c5d13d5461",
   "outputs": [],
   "execution_count": null
  },
  {
   "metadata": {},
   "cell_type": "code",
   "source": [
    "sq.pl.spatial_scatter(\n",
    "            tma2_140_obj,\n",
    "            shape=None,            # must be positional\n",
    "            library_id=\"spatial\",\n",
    "            use_raw=False,\n",
    "            color=[\"total_counts\",\"n_genes_by_counts\",\"pct_counts_mt\"]\n",
    "        )"
   ],
   "id": "941faa3a632b2b8c",
   "outputs": [],
   "execution_count": null
  },
  {
   "metadata": {},
   "cell_type": "markdown",
   "source": "### filter ",
   "id": "b49049742f3fb492"
  },
  {
   "metadata": {},
   "cell_type": "code",
   "source": [
    "print(\"adata size \" + str(tma2_140_obj.shape))\n",
    "sc.pp.filter_cells(tma2_140_obj, min_counts=200)\n",
    "tma2_140_obj = tma2_140_obj[tma2_140_obj.obs['pct_counts_mt'] < 20, :]\n",
    "print(\"adata size \" + str(tma2_140_obj.shape))"
   ],
   "id": "e89bcc8988529ec9",
   "outputs": [],
   "execution_count": null
  },
  {
   "metadata": {},
   "cell_type": "markdown",
   "source": "### Replot ",
   "id": "6ae6654e7d9eeab1"
  },
  {
   "metadata": {},
   "cell_type": "code",
   "source": [
    "fig, axs = plt.subplots(1, 3, figsize=(12, 3))\n",
    "sns.histplot(tma2_140_obj.obs[\"total_counts\"], kde=False, ax=axs[0])\n",
    "sns.histplot(tma2_140_obj.obs[\"n_genes_by_counts\"], kde=False, bins=60, ax=axs[1])\n",
    "sc.pl.violin(tma2_140_obj, \"pct_counts_mt\",ax = axs[2])\n",
    "\n"
   ],
   "id": "82315d9771850418",
   "outputs": [],
   "execution_count": null
  },
  {
   "metadata": {},
   "cell_type": "code",
   "source": [
    "sq.pl.spatial_scatter(\n",
    "            tma2_140_obj,\n",
    "            shape=None,            # must be positional\n",
    "            library_id=\"spatial\",\n",
    "            use_raw=False,\n",
    "            color=[\"Patient\",\"Tissue_core\",\"Condition\"]\n",
    "        )"
   ],
   "id": "866e1b861ca7f308",
   "outputs": [],
   "execution_count": null
  },
  {
   "metadata": {},
   "cell_type": "code",
   "source": [
    "sq.pl.spatial_scatter(\n",
    "            tma2_140_obj,\n",
    "            shape=None,            # must be positional\n",
    "            library_id=\"spatial\",\n",
    "            use_raw=False,\n",
    "            color=[\"total_counts\",\"n_genes_by_counts\",\"pct_counts_mt\"]\n",
    "        )"
   ],
   "id": "da9b2026e2090b9a",
   "outputs": [],
   "execution_count": null
  },
  {
   "metadata": {},
   "cell_type": "markdown",
   "source": "### Save ",
   "id": "dc63409adeb3934a"
  },
  {
   "metadata": {},
   "cell_type": "code",
   "source": "tma2_140_obj.write_h5ad(\"data/0_preped_h5ad_obj_metadata/TMA2140_obj_V2.h5ad\")",
   "id": "a5e674a5a0ce0b02",
   "outputs": [],
   "execution_count": null
  },
  {
   "metadata": {},
   "cell_type": "markdown",
   "source": "## TMA2 145",
   "id": "f16af716c30a066d"
  },
  {
   "metadata": {},
   "cell_type": "markdown",
   "source": "### load obj ",
   "id": "6f6c5d84b7a964ed"
  },
  {
   "metadata": {},
   "cell_type": "code",
   "source": [
    "tma2_145_obj = an.read_h5ad(\"data/0_preped_h5ad_obj_metadata/TMA2140_obj_V1.h5ad\")\n",
    "tma2_145_obj.obs[\"TMA_num\"] = tma2_145_obj.obs[\"Row_num\"].str.extract(r'^(TMA\\d+)')"
   ],
   "id": "c1711b11393d1b4c",
   "outputs": [],
   "execution_count": null
  },
  {
   "metadata": {},
   "cell_type": "code",
   "source": [
    "sq.pl.spatial_scatter(\n",
    "            tma2_145_obj,\n",
    "            shape=None,            # must be positional\n",
    "            library_id=\"spatial\",\n",
    "            use_raw=False,\n",
    "            color=[\"Patient\",\"Tissue_core\",\"Condition\"]\n",
    "        )"
   ],
   "id": "fe885ce891a5b6da",
   "outputs": [],
   "execution_count": null
  },
  {
   "metadata": {},
   "cell_type": "markdown",
   "source": "### plot QC",
   "id": "709392f064673b7"
  },
  {
   "metadata": {},
   "cell_type": "code",
   "source": [
    "tma2_145_obj.var_names_make_unique()\n",
    "tma2_145_obj.var[\"mt\"] = tma2_145_obj.var_names.str.startswith(\"MT-\")\n",
    "sc.pp.calculate_qc_metrics(tma2_145_obj, qc_vars=[\"mt\"], inplace=True)"
   ],
   "id": "63aa5401cfa79124",
   "outputs": [],
   "execution_count": null
  },
  {
   "metadata": {},
   "cell_type": "code",
   "source": [
    "fig, axs = plt.subplots(1, 3, figsize=(12, 3))\n",
    "sns.histplot(tma2_145_obj.obs[\"total_counts\"], kde=False, ax=axs[0])\n",
    "sns.histplot(tma2_145_obj.obs[\"n_genes_by_counts\"], kde=False, bins=60, ax=axs[1])\n",
    "sc.pl.violin(tma2_145_obj, \"pct_counts_mt\",ax = axs[2])"
   ],
   "id": "ab1b06ee5ff75861",
   "outputs": [],
   "execution_count": null
  },
  {
   "metadata": {},
   "cell_type": "code",
   "source": [
    "sq.pl.spatial_scatter(\n",
    "            tma2_145_obj,\n",
    "            shape=None,            # must be positional\n",
    "            library_id=\"spatial\",\n",
    "            use_raw=False,\n",
    "            color=[\"total_counts\",\"n_genes_by_counts\",\"pct_counts_mt\"]\n",
    "        )"
   ],
   "id": "46e374d053923af1",
   "outputs": [],
   "execution_count": null
  },
  {
   "metadata": {},
   "cell_type": "markdown",
   "source": "### Filter ",
   "id": "c1e2dbb478358348"
  },
  {
   "metadata": {},
   "cell_type": "code",
   "source": [
    "print(\"adata size \" + str(tma2_145_obj.shape))\n",
    "sc.pp.filter_cells(tma2_145_obj, min_counts=200)\n",
    "tma2_145_obj = tma2_145_obj[tma2_145_obj.obs['pct_counts_mt'] < 20, :]\n",
    "print(\"adata size \" + str(tma2_145_obj.shape))"
   ],
   "id": "95fe18f9c07b5730",
   "outputs": [],
   "execution_count": null
  },
  {
   "metadata": {},
   "cell_type": "markdown",
   "source": "### Replot ",
   "id": "1ca470444688b4e8"
  },
  {
   "metadata": {},
   "cell_type": "code",
   "source": [
    "fig, axs = plt.subplots(1, 3, figsize=(12, 3))\n",
    "sns.histplot(tma2_145_obj.obs[\"total_counts\"], kde=False, ax=axs[0])\n",
    "sns.histplot(tma2_145_obj.obs[\"n_genes_by_counts\"], kde=False, bins=60, ax=axs[1])\n",
    "sc.pl.violin(tma2_145_obj, \"pct_counts_mt\",ax = axs[2])"
   ],
   "id": "efc0044a13749877",
   "outputs": [],
   "execution_count": null
  },
  {
   "metadata": {},
   "cell_type": "code",
   "source": [
    "sq.pl.spatial_scatter(\n",
    "            tma2_145_obj,\n",
    "            shape=None,            # must be positional\n",
    "            library_id=\"spatial\",\n",
    "            use_raw=False,\n",
    "            color=[\"total_counts\",\"n_genes_by_counts\",\"pct_counts_mt\"]\n",
    "        )"
   ],
   "id": "36e65a7afee5f83e",
   "outputs": [],
   "execution_count": null
  },
  {
   "metadata": {},
   "cell_type": "markdown",
   "source": "### Save ",
   "id": "9cea44a5fd29d3b5"
  },
  {
   "metadata": {},
   "cell_type": "code",
   "source": "tma2_145_obj.write_h5ad(\"data/0_preped_h5ad_obj_metadata/TMA2145_obj_V2.h5ad\")",
   "id": "a4383d09a41acda0",
   "outputs": [],
   "execution_count": null
  },
  {
   "metadata": {},
   "cell_type": "markdown",
   "source": "## TMA 4",
   "id": "32c9501475620f17"
  },
  {
   "metadata": {},
   "cell_type": "markdown",
   "source": "### load obj",
   "id": "81e106500ff93110"
  },
  {
   "metadata": {},
   "cell_type": "code",
   "source": [
    "tma4_obj = an.read_h5ad(\"data/0_preped_h5ad_obj_metadata/TMA4_obj_V1.h5ad\")\n",
    "tma4_obj.obs[\"TMA_num\"] = tma4_obj.obs[\"Row_num\"].str.extract(r'^(TMA\\d+)')\n"
   ],
   "id": "19a07403aced5419",
   "outputs": [],
   "execution_count": null
  },
  {
   "metadata": {},
   "cell_type": "markdown",
   "source": "### Get QC",
   "id": "1d167c7c606e0de7"
  },
  {
   "metadata": {},
   "cell_type": "code",
   "source": [
    "tma4_obj.var_names_make_unique()\n",
    "tma4_obj.var[\"mt\"] = tma4_obj.var_names.str.startswith(\"MT-\")\n",
    "sc.pp.calculate_qc_metrics(tma4_obj, qc_vars=[\"mt\"], inplace=True)"
   ],
   "id": "bebfb268223bcb35",
   "outputs": [],
   "execution_count": null
  },
  {
   "metadata": {},
   "cell_type": "markdown",
   "source": "### plot QC",
   "id": "978c83b25114120f"
  },
  {
   "metadata": {},
   "cell_type": "code",
   "source": [
    "fig, axs = plt.subplots(1, 3, figsize=(12, 3))\n",
    "sns.histplot(tma4_obj.obs[\"total_counts\"], kde=False, ax=axs[0])\n",
    "sns.histplot(tma4_obj.obs[\"n_genes_by_counts\"], kde=False, bins=60, ax=axs[1])\n",
    "sc.pl.violin(tma4_obj, \"pct_counts_mt\",ax = axs[2])"
   ],
   "id": "8a69d3d407c764fb",
   "outputs": [],
   "execution_count": null
  },
  {
   "metadata": {},
   "cell_type": "code",
   "source": [
    "sq.pl.spatial_scatter(\n",
    "            tma4_obj,\n",
    "            shape=None,            # must be positional\n",
    "            library_id=\"spatial\",\n",
    "            use_raw=False,\n",
    "            color=[\"total_counts\",\"n_genes_by_counts\",\"pct_counts_mt\"]\n",
    "        )"
   ],
   "id": "d982ac9cc08a7085",
   "outputs": [],
   "execution_count": null
  },
  {
   "metadata": {},
   "cell_type": "markdown",
   "source": "### Filter ",
   "id": "1e13646aae9d5fbd"
  },
  {
   "metadata": {},
   "cell_type": "code",
   "source": [
    "print(\"adata size \" + str(tma4_obj.shape))\n",
    "sc.pp.filter_cells(tma4_obj, min_counts=200)\n",
    "tma4_obj = tma4_obj[tma4_obj.obs['pct_counts_mt'] < 20, :]\n",
    "print(\"adata size \" + str(tma4_obj.shape))"
   ],
   "id": "3cfd91b22641ab0b",
   "outputs": [],
   "execution_count": null
  },
  {
   "metadata": {},
   "cell_type": "markdown",
   "source": "### replot",
   "id": "2d43fffe6f09f154"
  },
  {
   "metadata": {},
   "cell_type": "code",
   "source": [
    "fig, axs = plt.subplots(1, 3, figsize=(12, 3))\n",
    "sns.histplot(tma4_obj.obs[\"total_counts\"], kde=False, ax=axs[0])\n",
    "sns.histplot(tma4_obj.obs[\"n_genes_by_counts\"], kde=False, bins=60, ax=axs[1])\n",
    "sc.pl.violin(tma4_obj, \"pct_counts_mt\",ax = axs[2])"
   ],
   "id": "4dc2210e6ba1f02",
   "outputs": [],
   "execution_count": null
  },
  {
   "metadata": {},
   "cell_type": "code",
   "source": [
    "sq.pl.spatial_scatter(\n",
    "            tma4_obj,\n",
    "            shape=None,            # must be positional\n",
    "            library_id=\"spatial\",\n",
    "            use_raw=False,\n",
    "            color=[\"total_counts\",\"n_genes_by_counts\",\"pct_counts_mt\"]\n",
    "        )"
   ],
   "id": "5cde7181be241a1e",
   "outputs": [],
   "execution_count": null
  },
  {
   "metadata": {},
   "cell_type": "code",
   "source": [
    "sq.pl.spatial_scatter(\n",
    "            tma4_obj,\n",
    "            shape=None,            # must be positional\n",
    "            library_id=\"spatial\",\n",
    "            use_raw=False,\n",
    "            color=[\"Patient\",\"Tissue_core\",\"Condition\"]\n",
    "        )"
   ],
   "id": "d1ed47a73bc92693",
   "outputs": [],
   "execution_count": null
  },
  {
   "metadata": {},
   "cell_type": "markdown",
   "source": "### save obj ",
   "id": "e8873ac5f081072b"
  },
  {
   "metadata": {},
   "cell_type": "code",
   "source": "tma4_obj.write_h5ad(\"data/0_preped_h5ad_obj_metadata/TMA4_obj_V2.h5ad\")\n",
   "id": "d3ec38b231fd11be",
   "outputs": [],
   "execution_count": null
  },
  {
   "metadata": {},
   "cell_type": "markdown",
   "source": "## TMA 9",
   "id": "648d23c8cdd421cb"
  },
  {
   "metadata": {},
   "cell_type": "markdown",
   "source": "### load obj ",
   "id": "82fff802372f02f8"
  },
  {
   "metadata": {},
   "cell_type": "code",
   "source": [
    "tma9_obj = an.read_h5ad(\"data/0_preped_h5ad_obj_metadata/TMA9_obj_V1.h5ad\")\n",
    "tma9_obj.obs[\"TMA_num\"] = tma9_obj.obs[\"Row_num\"].str.extract(r'^(TMA\\d+)')\n",
    "\n"
   ],
   "id": "42dce1eca17974e4",
   "outputs": [],
   "execution_count": null
  },
  {
   "metadata": {},
   "cell_type": "markdown",
   "source": "### get QC",
   "id": "686a5366483eb86e"
  },
  {
   "metadata": {},
   "cell_type": "code",
   "source": [
    "tma9_obj.var_names_make_unique()\n",
    "tma9_obj.var[\"mt\"] = tma9_obj.var_names.str.startswith(\"MT-\")\n",
    "sc.pp.calculate_qc_metrics(tma9_obj, qc_vars=[\"mt\"], inplace=True)"
   ],
   "id": "cfa9b9799835519a",
   "outputs": [],
   "execution_count": null
  },
  {
   "metadata": {},
   "cell_type": "markdown",
   "source": "### plot QC",
   "id": "a3ac2c0fe20d0f79"
  },
  {
   "metadata": {},
   "cell_type": "code",
   "source": [
    "fig, axs = plt.subplots(1, 3, figsize=(12, 3))\n",
    "sns.histplot(tma9_obj.obs[\"total_counts\"], kde=False, ax=axs[0])\n",
    "sns.histplot(tma9_obj.obs[\"n_genes_by_counts\"], kde=False, bins=60, ax=axs[1])\n",
    "sc.pl.violin(tma9_obj, \"pct_counts_mt\",ax = axs[2])"
   ],
   "id": "60baf1ddbf085161",
   "outputs": [],
   "execution_count": null
  },
  {
   "metadata": {},
   "cell_type": "code",
   "source": [
    "sq.pl.spatial_scatter(\n",
    "            tma9_obj,\n",
    "            shape=None,            # must be positional\n",
    "            library_id=\"spatial\",\n",
    "            use_raw=False,\n",
    "            color=[\"total_counts\",\"n_genes_by_counts\",\"pct_counts_mt\"]\n",
    "        )"
   ],
   "id": "93e657297ace1598",
   "outputs": [],
   "execution_count": null
  },
  {
   "metadata": {},
   "cell_type": "markdown",
   "source": "### filter",
   "id": "c2982cd447e59006"
  },
  {
   "metadata": {},
   "cell_type": "code",
   "source": [
    "print(\"adata size \" + str(tma9_obj.shape))\n",
    "sc.pp.filter_cells(tma9_obj, min_counts=200)\n",
    "tma9_obj = tma9_obj[tma9_obj.obs['pct_counts_mt'] < 20, :]\n",
    "print(\"adata size \" + str(tma9_obj.shape))"
   ],
   "id": "68f02483c99a9a0b",
   "outputs": [],
   "execution_count": null
  },
  {
   "metadata": {},
   "cell_type": "markdown",
   "source": "### replot ",
   "id": "fd3b642194c9a064"
  },
  {
   "metadata": {},
   "cell_type": "code",
   "source": [
    "fig, axs = plt.subplots(1, 3, figsize=(12, 3))\n",
    "sns.histplot(tma9_obj.obs[\"total_counts\"], kde=False, ax=axs[0])\n",
    "sns.histplot(tma9_obj.obs[\"n_genes_by_counts\"], kde=False, bins=60, ax=axs[1])\n",
    "sc.pl.violin(tma9_obj, \"pct_counts_mt\",ax = axs[2])"
   ],
   "id": "b06e2149a986d83",
   "outputs": [],
   "execution_count": null
  },
  {
   "metadata": {},
   "cell_type": "code",
   "source": [
    "sq.pl.spatial_scatter(\n",
    "            tma9_obj,\n",
    "            shape=None,            # must be positional\n",
    "            library_id=\"spatial\",\n",
    "            use_raw=False,\n",
    "            color=[\"total_counts\",\"n_genes_by_counts\",\"pct_counts_mt\"]\n",
    "        )"
   ],
   "id": "ac088c7a76d0419",
   "outputs": [],
   "execution_count": null
  },
  {
   "metadata": {},
   "cell_type": "code",
   "source": [
    "sq.pl.spatial_scatter(\n",
    "            tma9_obj,\n",
    "            shape=None,            # must be positional\n",
    "            library_id=\"spatial\",\n",
    "            use_raw=False,\n",
    "            color=[\"Patient\",\"Tissue_core\",\"Condition\"]\n",
    "        )"
   ],
   "id": "478711a765f9e886",
   "outputs": [],
   "execution_count": null
  },
  {
   "metadata": {},
   "cell_type": "markdown",
   "source": "### save obj ",
   "id": "7acf75a53fd8554"
  },
  {
   "metadata": {},
   "cell_type": "code",
   "source": "tma9_obj.write_h5ad(\"data/0_preped_h5ad_obj_metadata/TMA9_obj_V2.h5ad\")\n",
   "id": "82ec5136cdd4d766",
   "outputs": [],
   "execution_count": null
  },
  {
   "metadata": {},
   "cell_type": "markdown",
   "source": "# Merge ",
   "id": "3ee1dfda4bbebe09"
  },
  {
   "metadata": {},
   "cell_type": "markdown",
   "source": "## Load objects",
   "id": "d125de70764cd2d1"
  },
  {
   "metadata": {},
   "cell_type": "code",
   "source": [
    "tma2_140_obj = an.read_h5ad(\"data/0_preped_h5ad_obj_metadata/TMA2140_obj_V2.h5ad\")\n",
    "tma2_140_obj"
   ],
   "id": "938edd364ee83ee9",
   "outputs": [],
   "execution_count": null
  },
  {
   "metadata": {},
   "cell_type": "code",
   "source": [
    "tma2_145_obj = an.read_h5ad(\"data/0_preped_h5ad_obj_metadata/TMA2145_obj_V2.h5ad\")\n",
    "tma2_145_obj"
   ],
   "id": "feef019d5f48fa4",
   "outputs": [],
   "execution_count": null
  },
  {
   "metadata": {},
   "cell_type": "code",
   "source": [
    "tma4_obj = an.read_h5ad(\"data/0_preped_h5ad_obj_metadata/TMA4_obj_V2.h5ad\")\n",
    "tma4_obj"
   ],
   "id": "71bf9338c3b8a5ae",
   "outputs": [],
   "execution_count": null
  },
  {
   "metadata": {},
   "cell_type": "code",
   "source": [
    "tma9_obj = an.read_h5ad(\"data/0_preped_h5ad_obj_metadata/TMA9_obj_V2.h5ad\")\n",
    "tma9_obj"
   ],
   "id": "b60a511d9bf4f3f6",
   "outputs": [],
   "execution_count": null
  },
  {
   "metadata": {},
   "cell_type": "markdown",
   "source": "## merge into dictionary",
   "id": "2a043fb5bd528f49"
  },
  {
   "metadata": {},
   "cell_type": "code",
   "source": "tma_merge_obj = {\"tma2_140\":tma2_140_obj, \"tma2_145\":tma2_145_obj, \"tma4\": tma4_obj,\"tma9\":tma9_obj}\n",
   "id": "b1d2cb5c821588fa",
   "outputs": [],
   "execution_count": null
  },
  {
   "metadata": {},
   "cell_type": "code",
   "source": [
    "for tma_slide in tma_merge_obj:\n",
    "#for batch in [\"Batch12\", \"Batch13\", \"Batch14\", \"Batch15\"]:\n",
    "    print(tma_slide)\n",
    "    obj = tma_merge_obj[tma_slide]\n",
    "    obj.obs_names = obj.obs_names +\"-\"+ tma_slide\n"
   ],
   "id": "af586054e1dc77f",
   "outputs": [],
   "execution_count": null
  },
  {
   "metadata": {},
   "cell_type": "code",
   "source": "tma_merge_obj['tma2_140'].obs_names",
   "id": "742f7430cbb58129",
   "outputs": [],
   "execution_count": null
  },
  {
   "metadata": {},
   "cell_type": "code",
   "source": "tma_merged_obj = sc.concat(tma_merge_obj.values(), join=\"outer\", label=\"TMA_num\", keys=tma_merge_obj.keys(), index_unique=None)\n",
   "id": "5f5345d9becb3e25",
   "outputs": [],
   "execution_count": null
  },
  {
   "metadata": {},
   "cell_type": "code",
   "source": "tma_merged_obj",
   "id": "2950a5cb3964e488",
   "outputs": [],
   "execution_count": null
  },
  {
   "metadata": {},
   "cell_type": "code",
   "source": "tma_merged_obj.var",
   "id": "4b9abf186ee1f2e8",
   "outputs": [],
   "execution_count": null
  },
  {
   "metadata": {},
   "cell_type": "code",
   "source": "tma2_145_obj.var",
   "id": "89154f534235daaf",
   "outputs": [],
   "execution_count": null
  },
  {
   "metadata": {},
   "cell_type": "markdown",
   "source": "## merge var names ",
   "id": "84567b584c6a54ea"
  },
  {
   "metadata": {},
   "cell_type": "code",
   "source": [
    "gene_ids_df = tma2_145_obj.var[['gene_ids']].copy()\n",
    "\n",
    "# Now join this into the merged .var dataframe\n",
    "tma_merged_obj.var = tma_merged_obj.var.join(gene_ids_df, how='left')"
   ],
   "id": "9b7627a031687b2b",
   "outputs": [],
   "execution_count": null
  },
  {
   "metadata": {},
   "cell_type": "markdown",
   "source": "## save obj ",
   "id": "af3861a689abccd0"
  },
  {
   "metadata": {},
   "cell_type": "code",
   "source": "tma_merged_obj.write_h5ad(\"data/1_merged_TMA_objs/TMA_merged_V1.h5ad\")",
   "id": "2f3441f0a3f5ed5f",
   "outputs": [],
   "execution_count": null
  },
  {
   "metadata": {},
   "cell_type": "code",
   "source": "tma_merged_obj",
   "id": "4564da21175916ba",
   "outputs": [],
   "execution_count": null
  },
  {
   "metadata": {},
   "cell_type": "code",
   "source": "tma_merged_obj.X",
   "id": "31286b7f7dbcdb95",
   "outputs": [],
   "execution_count": null
  },
  {
   "metadata": {},
   "cell_type": "code",
   "source": [
    "sq.pl.spatial_scatter(\n",
    "            tma_merged_obj,\n",
    "            shape=None,            # must be positional\n",
    "            library_id=\"spatial\",\n",
    "            use_raw=False,\n",
    "            color=[\"Patient\"]\n",
    "        )"
   ],
   "id": "3b3213ad4c0efbf8",
   "outputs": [],
   "execution_count": null
  },
  {
   "metadata": {},
   "cell_type": "code",
   "source": "",
   "id": "9ad388500d74afe2",
   "outputs": [],
   "execution_count": null
  }
 ],
 "metadata": {
  "kernelspec": {
   "display_name": "Python 3 (ipykernel)",
   "language": "python",
   "name": "python3"
  },
  "language_info": {
   "codemirror_mode": {
    "name": "ipython",
    "version": 3
   },
   "file_extension": ".py",
   "mimetype": "text/x-python",
   "name": "python",
   "nbconvert_exporter": "python",
   "pygments_lexer": "ipython3",
   "version": "3.12.10"
  }
 },
 "nbformat": 4,
 "nbformat_minor": 5
}
