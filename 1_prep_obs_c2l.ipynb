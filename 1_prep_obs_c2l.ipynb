{
 "cells": [
  {
   "metadata": {},
   "cell_type": "markdown",
   "source": [
    "# Goal of notebook\n",
    "prep objects for cell2location "
   ],
   "id": "55f4c4ce5c310e87"
  },
  {
   "metadata": {},
   "cell_type": "markdown",
   "source": "# load mdoules ",
   "id": "8f36904693dbbe2d"
  },
  {
   "metadata": {
    "ExecuteTime": {
     "end_time": "2025-07-22T19:11:03.984920Z",
     "start_time": "2025-07-22T19:10:24.166670Z"
    }
   },
   "cell_type": "code",
   "source": [
    "import scanpy as sc\n",
    "import scvi\n",
    "import anndata as an\n",
    "import pandas as pd\n",
    "import numpy as np\n",
    "import matplotlib.pyplot as plt\n",
    "import matplotlib as mpl\n",
    "\n",
    "import cell2location as c2l\n",
    "import scvi\n",
    "\n",
    "from matplotlib import rcParams\n",
    "\n",
    "import scanpy as sc\n",
    "import muon as mu\n",
    "import os "
   ],
   "id": "4db99c56d6b75c32",
   "outputs": [
    {
     "name": "stderr",
     "output_type": "stream",
     "text": [
      "/projects/home/plopez29/cell2location/lib/python3.9/site-packages/tqdm/auto.py:21: TqdmWarning: IProgress not found. Please update jupyter and ipywidgets. See https://ipywidgets.readthedocs.io/en/stable/user_install.html\n",
      "  from .autonotebook import tqdm as notebook_tqdm\n"
     ]
    }
   ],
   "execution_count": 1
  },
  {
   "metadata": {},
   "cell_type": "code",
   "outputs": [],
   "execution_count": null,
   "source": "",
   "id": "fde4897b42aed602"
  },
  {
   "metadata": {},
   "cell_type": "markdown",
   "source": "# Filter out misc cells in adata obj ",
   "id": "eb5af421e8457968"
  },
  {
   "metadata": {
    "ExecuteTime": {
     "end_time": "2025-07-22T13:39:15.828937Z",
     "start_time": "2025-07-22T13:39:15.823696Z"
    }
   },
   "cell_type": "code",
   "source": "os.chdir(\"/projects/Pregnancy_placenta/Results/10_Merging_all_batches/\")",
   "id": "f84473789664766e",
   "outputs": [],
   "execution_count": 2
  },
  {
   "metadata": {
    "ExecuteTime": {
     "end_time": "2025-07-22T13:40:43.591744Z",
     "start_time": "2025-07-22T13:39:16.231064Z"
    }
   },
   "cell_type": "code",
   "source": "adata = mu.read(\"Batches1-15_V11.h5mu\")",
   "id": "c01b431a5debe912",
   "outputs": [],
   "execution_count": 3
  },
  {
   "metadata": {
    "ExecuteTime": {
     "end_time": "2025-07-22T13:42:39.942217Z",
     "start_time": "2025-07-22T13:42:39.936591Z"
    }
   },
   "cell_type": "code",
   "source": [
    "# Step 1: Transfer .raw to .X (this is fast)\n",
    "adata[\"GEX\"].X = adata[\"GEX\"].raw.X\n",
    "adata[\"GEX\"].raw = None  # Optional: clears memory\n"
   ],
   "id": "c30c773138b5fef0",
   "outputs": [],
   "execution_count": 9
  },
  {
   "metadata": {
    "ExecuteTime": {
     "end_time": "2025-07-22T14:07:14.573991Z",
     "start_time": "2025-07-22T13:42:46.463833Z"
    }
   },
   "cell_type": "code",
   "source": "adata_nona  = adata[\"GEX\"][~adata[\"GEX\"].obs[\"sub_lin2\"].isin([\"nan\"])].copy()",
   "id": "c7279e17e1121b6e",
   "outputs": [],
   "execution_count": 10
  },
  {
   "metadata": {
    "ExecuteTime": {
     "end_time": "2025-07-22T14:07:49.772638Z",
     "start_time": "2025-07-22T14:07:14.715972Z"
    }
   },
   "cell_type": "code",
   "source": [
    "os.chdir(\"/projects/Pregnancy_placenta/Results/14_visium_deconvolution/ref_data\")\n",
    "adata_nona.write_h5ad(\"Batches1-15_V11_nona.h5ad\")"
   ],
   "id": "cb92af6911e7e89f",
   "outputs": [],
   "execution_count": 11
  },
  {
   "metadata": {},
   "cell_type": "markdown",
   "source": "# Prep spatial object ",
   "id": "34c6787d32f8c3dd"
  },
  {
   "metadata": {},
   "cell_type": "markdown",
   "source": "## Load obj ",
   "id": "f4f4a7a3b6a6adbe"
  },
  {
   "metadata": {
    "ExecuteTime": {
     "end_time": "2025-07-22T17:32:29.034578Z",
     "start_time": "2025-07-22T17:32:28.195745Z"
    }
   },
   "cell_type": "code",
   "source": [
    "os.chdir(\"/projects/Pregnancy_placenta/Results/\")\n",
    "TMA_obj = an.read_h5ad(\"14_visium_deconvolution/visium_data/TMA_merged_V1.h5ad\")"
   ],
   "id": "928253acf29f9622",
   "outputs": [],
   "execution_count": 3
  },
  {
   "metadata": {},
   "cell_type": "markdown",
   "source": "## fix ensemble id to be var name ",
   "id": "eced8bf581ce2504"
  },
  {
   "metadata": {
    "ExecuteTime": {
     "end_time": "2025-07-22T17:34:05.049883Z",
     "start_time": "2025-07-22T17:34:05.041848Z"
    }
   },
   "cell_type": "code",
   "source": [
    "TMA_obj.var[\"feature_name\"] = TMA_obj.var_names\n",
    "TMA_obj.var.set_index(\"gene_ids\", drop=True, inplace=True)"
   ],
   "id": "907351df4b88bf14",
   "outputs": [],
   "execution_count": 7
  },
  {
   "metadata": {
    "ExecuteTime": {
     "end_time": "2025-07-22T17:34:17.941209Z",
     "start_time": "2025-07-22T17:34:17.929912Z"
    }
   },
   "cell_type": "code",
   "source": "TMA_obj.var.head()",
   "id": "4f288de8568ffd08",
   "outputs": [
    {
     "data": {
      "text/plain": [
       "                feature_name\n",
       "gene_ids                    \n",
       "ENSG00000187634       SAMD11\n",
       "ENSG00000188976        NOC2L\n",
       "ENSG00000187961       KLHL17\n",
       "ENSG00000187583      PLEKHN1\n",
       "ENSG00000187642        PERM1"
      ],
      "text/html": [
       "<div>\n",
       "<style scoped>\n",
       "    .dataframe tbody tr th:only-of-type {\n",
       "        vertical-align: middle;\n",
       "    }\n",
       "\n",
       "    .dataframe tbody tr th {\n",
       "        vertical-align: top;\n",
       "    }\n",
       "\n",
       "    .dataframe thead th {\n",
       "        text-align: right;\n",
       "    }\n",
       "</style>\n",
       "<table border=\"1\" class=\"dataframe\">\n",
       "  <thead>\n",
       "    <tr style=\"text-align: right;\">\n",
       "      <th></th>\n",
       "      <th>feature_name</th>\n",
       "    </tr>\n",
       "    <tr>\n",
       "      <th>gene_ids</th>\n",
       "      <th></th>\n",
       "    </tr>\n",
       "  </thead>\n",
       "  <tbody>\n",
       "    <tr>\n",
       "      <th>ENSG00000187634</th>\n",
       "      <td>SAMD11</td>\n",
       "    </tr>\n",
       "    <tr>\n",
       "      <th>ENSG00000188976</th>\n",
       "      <td>NOC2L</td>\n",
       "    </tr>\n",
       "    <tr>\n",
       "      <th>ENSG00000187961</th>\n",
       "      <td>KLHL17</td>\n",
       "    </tr>\n",
       "    <tr>\n",
       "      <th>ENSG00000187583</th>\n",
       "      <td>PLEKHN1</td>\n",
       "    </tr>\n",
       "    <tr>\n",
       "      <th>ENSG00000187642</th>\n",
       "      <td>PERM1</td>\n",
       "    </tr>\n",
       "  </tbody>\n",
       "</table>\n",
       "</div>"
      ]
     },
     "execution_count": 8,
     "metadata": {},
     "output_type": "execute_result"
    }
   ],
   "execution_count": 8
  },
  {
   "metadata": {},
   "cell_type": "markdown",
   "source": "## find mitochondrial genes ",
   "id": "9c2f9325ae496c41"
  },
  {
   "metadata": {
    "ExecuteTime": {
     "end_time": "2025-07-22T17:35:02.721957Z",
     "start_time": "2025-07-22T17:35:02.279945Z"
    }
   },
   "cell_type": "code",
   "source": [
    "# find mitochondrial (MT) genes\n",
    "TMA_obj.var[\"MT_gene\"] = [\n",
    "    gene.startswith(\"MT-\") for gene in TMA_obj.var[\"feature_name\"]\n",
    "]\n",
    "\n",
    "# remove MT genes for spatial mapping (keeping their counts in the object)\n",
    "TMA_obj.obsm[\"MT\"] = TMA_obj[:, TMA_obj.var[\"MT_gene\"].values].X.toarray()\n",
    "TMA_obj = TMA_obj[:, ~TMA_obj.var[\"MT_gene\"].values]"
   ],
   "id": "92dac5945687cbee",
   "outputs": [],
   "execution_count": 9
  },
  {
   "metadata": {},
   "cell_type": "markdown",
   "source": "## save obj ",
   "id": "1995f9d40bf20218"
  },
  {
   "metadata": {
    "ExecuteTime": {
     "end_time": "2025-07-22T17:36:08.225332Z",
     "start_time": "2025-07-22T17:36:06.740982Z"
    }
   },
   "cell_type": "code",
   "source": "TMA_obj.write_h5ad(\"14_visium_deconvolution/visium_data/TMA_merged_V2.h5ad\")",
   "id": "46fe67dbff044f49",
   "outputs": [],
   "execution_count": 11
  },
  {
   "metadata": {},
   "cell_type": "markdown",
   "source": "# Prep scRNAseq Obj ",
   "id": "c9bdef0736f7e449"
  },
  {
   "metadata": {},
   "cell_type": "markdown",
   "source": "## Load obj  - SC",
   "id": "4a7d0423dcbc695"
  },
  {
   "metadata": {
    "ExecuteTime": {
     "end_time": "2025-07-22T17:37:05.519235Z",
     "start_time": "2025-07-22T17:36:45.758154Z"
    }
   },
   "cell_type": "code",
   "source": [
    "os.chdir(\"/projects/Pregnancy_placenta/Results/14_visium_deconvolution/ref_data\")\n",
    "sc_obj = an.read_h5ad(\"Batches1-15_V11_nona.h5ad\")"
   ],
   "id": "37a8675a4acd9da0",
   "outputs": [],
   "execution_count": 12
  },
  {
   "metadata": {},
   "cell_type": "markdown",
   "source": "## Load obj - Spatial ",
   "id": "209c684efeb058e8"
  },
  {
   "metadata": {},
   "cell_type": "code",
   "outputs": [],
   "execution_count": null,
   "source": [
    "os.chdir(\"/projects/Pregnancy_placenta/Results/\")\n",
    "TMA_obj.write_h5ad(\"14_visium_deconvolution/visium_data/TMA_merged_V2.h5ad\")"
   ],
   "id": "aa4408141fdd716d"
  },
  {
   "metadata": {},
   "cell_type": "markdown",
   "source": "## fix ensemble",
   "id": "aa0efa00d4267dbf"
  },
  {
   "metadata": {
    "ExecuteTime": {
     "end_time": "2025-07-22T17:39:26.996006Z",
     "start_time": "2025-07-22T17:39:26.949196Z"
    }
   },
   "cell_type": "code",
   "source": "sc_obj.var",
   "id": "f10c2ec478699dd0",
   "outputs": [
    {
     "data": {
      "text/plain": [
       "               n_cells  percent_cells  robust  highly_variable_features  \\\n",
       "G:MIR1302-2HG       18       0.001358   False                     False   \n",
       "G:AL627309.1      1394       0.105164    True                     False   \n",
       "G:AL627309.3       188       0.014183   False                     False   \n",
       "G:AL627309.5      7096       0.535325    True                     False   \n",
       "G:AL627309.4        25       0.001886   False                     False   \n",
       "...                ...            ...     ...                       ...   \n",
       "G:AC141272.1        54       0.004074   False                     False   \n",
       "G:AC023491.2        24       0.001811   False                     False   \n",
       "G:AC007325.1       329       0.024820   False                     False   \n",
       "G:AC007325.4      1565       0.118064    True                     False   \n",
       "G:AC007325.2       961       0.072498    True                     False   \n",
       "\n",
       "                   mean       var  hvf_loess  hvf_rank  \n",
       "G:MIR1302-2HG  0.000053  0.000246   0.000000        -1  \n",
       "G:AL627309.1   0.003851  0.016454   0.017135     22919  \n",
       "G:AL627309.3   0.000512  0.002225   0.000000        -1  \n",
       "G:AL627309.5   0.021378  0.098194   0.093330      8450  \n",
       "G:AL627309.4   0.000082  0.000392   0.000000        -1  \n",
       "...                 ...       ...        ...       ...  \n",
       "G:AC141272.1   0.000207  0.001229   0.000000        -1  \n",
       "G:AC023491.2   0.000070  0.000313   0.000000        -1  \n",
       "G:AC007325.1   0.000967  0.004369   0.000000        -1  \n",
       "G:AC007325.4   0.004400  0.019459   0.019501     15799  \n",
       "G:AC007325.2   0.002701  0.012129   0.012071     14783  \n",
       "\n",
       "[34812 rows x 8 columns]"
      ],
      "text/html": [
       "<div>\n",
       "<style scoped>\n",
       "    .dataframe tbody tr th:only-of-type {\n",
       "        vertical-align: middle;\n",
       "    }\n",
       "\n",
       "    .dataframe tbody tr th {\n",
       "        vertical-align: top;\n",
       "    }\n",
       "\n",
       "    .dataframe thead th {\n",
       "        text-align: right;\n",
       "    }\n",
       "</style>\n",
       "<table border=\"1\" class=\"dataframe\">\n",
       "  <thead>\n",
       "    <tr style=\"text-align: right;\">\n",
       "      <th></th>\n",
       "      <th>n_cells</th>\n",
       "      <th>percent_cells</th>\n",
       "      <th>robust</th>\n",
       "      <th>highly_variable_features</th>\n",
       "      <th>mean</th>\n",
       "      <th>var</th>\n",
       "      <th>hvf_loess</th>\n",
       "      <th>hvf_rank</th>\n",
       "    </tr>\n",
       "  </thead>\n",
       "  <tbody>\n",
       "    <tr>\n",
       "      <th>G:MIR1302-2HG</th>\n",
       "      <td>18</td>\n",
       "      <td>0.001358</td>\n",
       "      <td>False</td>\n",
       "      <td>False</td>\n",
       "      <td>0.000053</td>\n",
       "      <td>0.000246</td>\n",
       "      <td>0.000000</td>\n",
       "      <td>-1</td>\n",
       "    </tr>\n",
       "    <tr>\n",
       "      <th>G:AL627309.1</th>\n",
       "      <td>1394</td>\n",
       "      <td>0.105164</td>\n",
       "      <td>True</td>\n",
       "      <td>False</td>\n",
       "      <td>0.003851</td>\n",
       "      <td>0.016454</td>\n",
       "      <td>0.017135</td>\n",
       "      <td>22919</td>\n",
       "    </tr>\n",
       "    <tr>\n",
       "      <th>G:AL627309.3</th>\n",
       "      <td>188</td>\n",
       "      <td>0.014183</td>\n",
       "      <td>False</td>\n",
       "      <td>False</td>\n",
       "      <td>0.000512</td>\n",
       "      <td>0.002225</td>\n",
       "      <td>0.000000</td>\n",
       "      <td>-1</td>\n",
       "    </tr>\n",
       "    <tr>\n",
       "      <th>G:AL627309.5</th>\n",
       "      <td>7096</td>\n",
       "      <td>0.535325</td>\n",
       "      <td>True</td>\n",
       "      <td>False</td>\n",
       "      <td>0.021378</td>\n",
       "      <td>0.098194</td>\n",
       "      <td>0.093330</td>\n",
       "      <td>8450</td>\n",
       "    </tr>\n",
       "    <tr>\n",
       "      <th>G:AL627309.4</th>\n",
       "      <td>25</td>\n",
       "      <td>0.001886</td>\n",
       "      <td>False</td>\n",
       "      <td>False</td>\n",
       "      <td>0.000082</td>\n",
       "      <td>0.000392</td>\n",
       "      <td>0.000000</td>\n",
       "      <td>-1</td>\n",
       "    </tr>\n",
       "    <tr>\n",
       "      <th>...</th>\n",
       "      <td>...</td>\n",
       "      <td>...</td>\n",
       "      <td>...</td>\n",
       "      <td>...</td>\n",
       "      <td>...</td>\n",
       "      <td>...</td>\n",
       "      <td>...</td>\n",
       "      <td>...</td>\n",
       "    </tr>\n",
       "    <tr>\n",
       "      <th>G:AC141272.1</th>\n",
       "      <td>54</td>\n",
       "      <td>0.004074</td>\n",
       "      <td>False</td>\n",
       "      <td>False</td>\n",
       "      <td>0.000207</td>\n",
       "      <td>0.001229</td>\n",
       "      <td>0.000000</td>\n",
       "      <td>-1</td>\n",
       "    </tr>\n",
       "    <tr>\n",
       "      <th>G:AC023491.2</th>\n",
       "      <td>24</td>\n",
       "      <td>0.001811</td>\n",
       "      <td>False</td>\n",
       "      <td>False</td>\n",
       "      <td>0.000070</td>\n",
       "      <td>0.000313</td>\n",
       "      <td>0.000000</td>\n",
       "      <td>-1</td>\n",
       "    </tr>\n",
       "    <tr>\n",
       "      <th>G:AC007325.1</th>\n",
       "      <td>329</td>\n",
       "      <td>0.024820</td>\n",
       "      <td>False</td>\n",
       "      <td>False</td>\n",
       "      <td>0.000967</td>\n",
       "      <td>0.004369</td>\n",
       "      <td>0.000000</td>\n",
       "      <td>-1</td>\n",
       "    </tr>\n",
       "    <tr>\n",
       "      <th>G:AC007325.4</th>\n",
       "      <td>1565</td>\n",
       "      <td>0.118064</td>\n",
       "      <td>True</td>\n",
       "      <td>False</td>\n",
       "      <td>0.004400</td>\n",
       "      <td>0.019459</td>\n",
       "      <td>0.019501</td>\n",
       "      <td>15799</td>\n",
       "    </tr>\n",
       "    <tr>\n",
       "      <th>G:AC007325.2</th>\n",
       "      <td>961</td>\n",
       "      <td>0.072498</td>\n",
       "      <td>True</td>\n",
       "      <td>False</td>\n",
       "      <td>0.002701</td>\n",
       "      <td>0.012129</td>\n",
       "      <td>0.012071</td>\n",
       "      <td>14783</td>\n",
       "    </tr>\n",
       "  </tbody>\n",
       "</table>\n",
       "<p>34812 rows × 8 columns</p>\n",
       "</div>"
      ]
     },
     "execution_count": 13,
     "metadata": {},
     "output_type": "execute_result"
    }
   ],
   "execution_count": 13
  },
  {
   "metadata": {
    "ExecuteTime": {
     "end_time": "2025-07-22T17:49:24.796688Z",
     "start_time": "2025-07-22T17:42:10.302728Z"
    }
   },
   "cell_type": "code",
   "source": [
    "# Step 1: Remove 'G:' from var_names\n",
    "sc_obj.var_names = sc_obj.var_names.str.replace('^G:', '', regex=True)\n",
    "\n",
    "# Step 2: Create a mapping from TMA_obj (assuming gene symbols are unique)\n",
    "# 'feature_name' column holds gene symbols, index is Ensembl ID\n",
    "gene_map = TMA_obj.var.reset_index().set_index('feature_name')\n",
    "\n",
    "# Step 3: Map gene symbols to Ensembl IDs\n",
    "sc_obj.var['feature_name'] = sc_obj.var_names  # preserve gene symbol\n",
    "sc_obj.var['gene_ids'] = sc_obj.var_names.map(gene_map['gene_ids'])\n",
    "\n",
    "# Step 4: Drop entries where no match is found (optional)\n",
    "sc_obj = sc_obj[:, sc_obj.var['gene_ids'].notna()].copy()\n",
    "\n",
    "# Step 5: Set Ensembl ID as index and drop the old index\n",
    "sc_obj.var.set_index('gene_ids', drop=True, inplace=True)\n",
    "\n",
    "# Result: sc_obj.var has Ensembl IDs as index and gene symbols as 'feature_name'\n"
   ],
   "id": "9962bf3717792d9b",
   "outputs": [],
   "execution_count": 14
  },
  {
   "metadata": {
    "ExecuteTime": {
     "end_time": "2025-07-22T17:52:24.202588Z",
     "start_time": "2025-07-22T17:51:59.293837Z"
    }
   },
   "cell_type": "code",
   "source": [
    "os.chdir(\"/projects/Pregnancy_placenta/Results/14_visium_deconvolution/ref_data\")\n",
    "sc_obj.write_h5ad(\"Batches1-15_V11_nona_V2.h5ad\")#%%\n",
    "# subset to just a few cells"
   ],
   "id": "f185cc7482662f88",
   "outputs": [],
   "execution_count": 16
  },
  {
   "metadata": {},
   "cell_type": "markdown",
   "source": "# Find shared genes ",
   "id": "73e9888f25f093d6"
  },
  {
   "metadata": {},
   "cell_type": "markdown",
   "source": "## Load obj - sc",
   "id": "462b3a370cd5fa5b"
  },
  {
   "metadata": {
    "ExecuteTime": {
     "end_time": "2025-07-22T19:11:25.954401Z",
     "start_time": "2025-07-22T19:11:04.043609Z"
    }
   },
   "cell_type": "code",
   "source": [
    "os.chdir(\"/projects/Pregnancy_placenta/Results/14_visium_deconvolution/ref_data\")\n",
    "sc_obj = an.read_h5ad(\"Batches1-15_V11_nona_V2.h5ad\")#%%\n",
    "# subset to just a few cells"
   ],
   "id": "232d031247c14ad0",
   "outputs": [],
   "execution_count": 2
  },
  {
   "metadata": {},
   "cell_type": "markdown",
   "source": "## Load obj - spatial ",
   "id": "6eff36fb770bd52"
  },
  {
   "metadata": {
    "ExecuteTime": {
     "end_time": "2025-07-22T19:11:27.191306Z",
     "start_time": "2025-07-22T19:11:26.373741Z"
    }
   },
   "cell_type": "code",
   "source": [
    "os.chdir(\"/projects/Pregnancy_placenta/Results/14_visium_deconvolution/visium_data\")\n",
    "TMA_obj = an.read_h5ad(\"TMA_merged_V2.h5ad\")"
   ],
   "id": "5524db7ddc829b71",
   "outputs": [],
   "execution_count": 3
  },
  {
   "metadata": {},
   "cell_type": "markdown",
   "source": "## iterate through both objects ",
   "id": "449938dab4f4ce63"
  },
  {
   "metadata": {
    "ExecuteTime": {
     "end_time": "2025-07-22T19:11:27.277490Z",
     "start_time": "2025-07-22T19:11:27.243009Z"
    }
   },
   "cell_type": "code",
   "source": [
    "shared_features = [\n",
    "    feature for feature in TMA_obj.var_names if feature in sc_obj.var_names\n",
    "]\n"
   ],
   "id": "6198e3eadab8a3f6",
   "outputs": [],
   "execution_count": 4
  },
  {
   "metadata": {
    "ExecuteTime": {
     "end_time": "2025-07-22T19:11:27.359445Z",
     "start_time": "2025-07-22T19:11:27.348558Z"
    }
   },
   "cell_type": "code",
   "source": "len(shared_features)",
   "id": "7ca4c59a7c36bc90",
   "outputs": [
    {
     "data": {
      "text/plain": [
       "17872"
      ]
     },
     "execution_count": 5,
     "metadata": {},
     "output_type": "execute_result"
    }
   ],
   "execution_count": 5
  },
  {
   "metadata": {},
   "cell_type": "markdown",
   "source": "## subset obj ",
   "id": "ef580a862952ec9b"
  },
  {
   "metadata": {
    "ExecuteTime": {
     "end_time": "2025-07-22T19:17:11.452279Z",
     "start_time": "2025-07-22T19:11:38.954295Z"
    }
   },
   "cell_type": "code",
   "source": [
    "sc_obj = sc_obj[:, shared_features].copy()\n",
    "TMA_obj = TMA_obj[:, shared_features].copy()"
   ],
   "id": "fd1a82251b2b587d",
   "outputs": [],
   "execution_count": 6
  },
  {
   "metadata": {},
   "cell_type": "markdown",
   "source": "## save obj ",
   "id": "81a423df938328f5"
  },
  {
   "metadata": {
    "ExecuteTime": {
     "end_time": "2025-07-22T19:17:45.655145Z",
     "start_time": "2025-07-22T19:17:21.802679Z"
    }
   },
   "cell_type": "code",
   "source": [
    "os.chdir(\"/projects/Pregnancy_placenta/Results/14_visium_deconvolution/ref_data\")\n",
    "sc_obj.write_h5ad(\"Batches1-15_V11_nona_V3.h5ad\")#%%\n",
    "# subset to just a few cells"
   ],
   "id": "7cc0a02a85b7122d",
   "outputs": [],
   "execution_count": 7
  },
  {
   "metadata": {
    "ExecuteTime": {
     "end_time": "2025-07-22T19:17:46.658478Z",
     "start_time": "2025-07-22T19:17:45.841032Z"
    }
   },
   "cell_type": "code",
   "source": [
    "os.chdir(\"/projects/Pregnancy_placenta/Results/14_visium_deconvolution/visium_data\")\n",
    "TMA_obj.write_h5ad(\"TMA_merged_V3.h5ad\")"
   ],
   "id": "af21206e7ef0e668",
   "outputs": [],
   "execution_count": 8
  },
  {
   "metadata": {},
   "cell_type": "markdown",
   "source": "# Filter genes using c2l function ",
   "id": "b3aff0ffb12589f3"
  },
  {
   "metadata": {},
   "cell_type": "markdown",
   "source": "## Load obj - scRNAseq",
   "id": "67b0a9b1f66299b4"
  },
  {
   "metadata": {},
   "cell_type": "code",
   "outputs": [],
   "execution_count": null,
   "source": [
    "os.chdir(\"/projects/Pregnancy_placenta/Results/14_visium_deconvolution/ref_data\")\n",
    "sc_obj = an.read_h5ad(\"Batches1-15_V11_nona_V3.h5ad\")#%%\n",
    "# subset to just a few cells"
   ],
   "id": "6193e75b061d6500"
  },
  {
   "metadata": {},
   "cell_type": "markdown",
   "source": "## Load obj - spatial ",
   "id": "e47dba1a7bb6253a"
  },
  {
   "metadata": {},
   "cell_type": "code",
   "outputs": [],
   "execution_count": null,
   "source": [
    "os.chdir(\"/projects/Pregnancy_placenta/Results/14_visium_deconvolution/visium_data\")\n",
    "TMA_obj = an.read_h5ad(\"TMA_merged_V3.h5ad\")"
   ],
   "id": "5b2db46461db4c92"
  },
  {
   "metadata": {},
   "cell_type": "markdown",
   "source": "## filter genes",
   "id": "22f3a31d7f3cf62"
  },
  {
   "metadata": {
    "ExecuteTime": {
     "end_time": "2025-07-22T19:27:21.785393Z",
     "start_time": "2025-07-22T19:18:20.777773Z"
    }
   },
   "cell_type": "code",
   "source": [
    "selected = c2l.utils.filtering.filter_genes(\n",
    "    sc_obj, cell_count_cutoff=5, cell_percentage_cutoff2=0.03, nonz_mean_cutoff=1.12\n",
    ")"
   ],
   "id": "592afa32b3ef5d41",
   "outputs": [
    {
     "name": "stderr",
     "output_type": "stream",
     "text": [
      "/projects/home/plopez29/cell2location/lib/python3.9/site-packages/pandas/core/arraylike.py:399: RuntimeWarning: divide by zero encountered in log10\n",
      "  result = getattr(ufunc, method)(*inputs, **kwargs)\n"
     ]
    },
    {
     "data": {
      "text/plain": [
       "<Figure size 640x480 with 1 Axes>"
      ],
      "image/png": "[encoded data removed]"
     },
     "metadata": {},
     "output_type": "display_data"
    }
   ],
   "execution_count": 9
  },
  {
   "metadata": {
    "ExecuteTime": {
     "end_time": "2025-07-22T19:27:21.970147Z",
     "start_time": "2025-07-22T19:27:21.962200Z"
    }
   },
   "cell_type": "code",
   "source": "len(selected)",
   "id": "d8c701c7a8903071",
   "outputs": [
    {
     "data": {
      "text/plain": [
       "12976"
      ]
     },
     "execution_count": 10,
     "metadata": {},
     "output_type": "execute_result"
    }
   ],
   "execution_count": 10
  },
  {
   "metadata": {},
   "cell_type": "markdown",
   "source": "## subset obj ",
   "id": "7ec3d5930f06b260"
  },
  {
   "metadata": {
    "ExecuteTime": {
     "end_time": "2025-07-22T19:49:26.782366Z",
     "start_time": "2025-07-22T19:27:22.084868Z"
    }
   },
   "cell_type": "code",
   "source": [
    "sc_obj = sc_obj[:, selected].copy()\n",
    "TMA_obj = TMA_obj[:, selected].copy()"
   ],
   "id": "dba747292bffeaa7",
   "outputs": [],
   "execution_count": 11
  },
  {
   "metadata": {},
   "cell_type": "markdown",
   "source": "## save obj - sc",
   "id": "149758cc6026711f"
  },
  {
   "metadata": {
    "ExecuteTime": {
     "end_time": "2025-07-22T19:52:06.545719Z",
     "start_time": "2025-07-22T19:51:40.045205Z"
    }
   },
   "cell_type": "code",
   "source": [
    "os.chdir(\"/projects/Pregnancy_placenta/Results/14_visium_deconvolution/ref_data\")\n",
    "sc_obj.write_h5ad(\"Batches1-15_V11_nona_V4.h5ad\")#%%\n",
    "# subset to just a few cells"
   ],
   "id": "126526eadcd7ccfa",
   "outputs": [],
   "execution_count": 12
  },
  {
   "metadata": {},
   "cell_type": "markdown",
   "source": "## save obj - spatial ",
   "id": "ddc749c2d3d23c7e"
  },
  {
   "metadata": {
    "ExecuteTime": {
     "end_time": "2025-07-22T19:52:07.413706Z",
     "start_time": "2025-07-22T19:52:06.605568Z"
    }
   },
   "cell_type": "code",
   "source": [
    "os.chdir(\"/projects/Pregnancy_placenta/Results/14_visium_deconvolution/visium_data\")\n",
    "TMA_obj.write_h5ad(\"TMA_merged_V4.h5ad\")"
   ],
   "id": "5f34afea0b65f993",
   "outputs": [],
   "execution_count": 13
  },
  {
   "metadata": {
    "ExecuteTime": {
     "end_time": "2025-07-22T20:03:29.277090Z",
     "start_time": "2025-07-22T20:03:29.269339Z"
    }
   },
   "cell_type": "code",
   "source": "TMA_obj",
   "id": "a98ae00189416ad8",
   "outputs": [
    {
     "data": {
      "text/plain": [
       "AnnData object with n_obs × n_vars = 317507 × 12976\n",
       "    obs: 'in_tissue', 'array_row', 'array_col', 'location_id', 'region', 'Row_num', 'Tissue_core', 'Patient', 'Condition', 'TMA_num', 'n_genes_by_counts', 'log1p_n_genes_by_counts', 'total_counts', 'log1p_total_counts', 'pct_counts_in_top_50_genes', 'pct_counts_in_top_100_genes', 'pct_counts_in_top_200_genes', 'pct_counts_in_top_500_genes', 'total_counts_mt', 'log1p_total_counts_mt', 'pct_counts_mt', 'n_counts'\n",
       "    var: 'feature_name', 'MT_gene'\n",
       "    obsm: 'MT', 'spatial'"
      ]
     },
     "execution_count": 19,
     "metadata": {},
     "output_type": "execute_result"
    }
   ],
   "execution_count": 19
  },
  {
   "metadata": {},
   "cell_type": "markdown",
   "source": "# Calculate average of each genes ",
   "id": "6b390e807bde92eb"
  },
  {
   "metadata": {},
   "cell_type": "markdown",
   "source": "## Test 1 - using sublin2",
   "id": "414c41585dd82962"
  },
  {
   "metadata": {},
   "cell_type": "code",
   "outputs": [],
   "execution_count": null,
   "source": "",
   "id": "e4b841ab0fb5ada9"
  },
  {
   "metadata": {
    "ExecuteTime": {
     "end_time": "2025-07-22T20:45:50.990070Z",
     "start_time": "2025-07-22T20:45:50.984407Z"
    }
   },
   "cell_type": "code",
   "source": "from cell2location.cluster_averages import cluster_averages",
   "id": "ce5ae34c3504ab8c",
   "outputs": [],
   "execution_count": 22
  },
  {
   "metadata": {
    "ExecuteTime": {
     "end_time": "2025-07-22T20:48:48.150060Z",
     "start_time": "2025-07-22T20:47:27.815835Z"
    }
   },
   "cell_type": "code",
   "source": "df_avg_sublin2 = cluster_averages.compute_cluster_averages(sc_obj,labels = \"sub_lin2\",use_raw=False)",
   "id": "3150d5f135ec021e",
   "outputs": [],
   "execution_count": 29
  },
  {
   "metadata": {
    "ExecuteTime": {
     "end_time": "2025-07-22T21:11:02.289500Z",
     "start_time": "2025-07-22T21:11:00.477900Z"
    }
   },
   "cell_type": "code",
   "source": [
    "os.chdir(\"/projects/Pregnancy_placenta/Results/14_visium_deconvolution\")\n",
    "df_avg_sublin2.to_csv(\"0_infered_cell_abundance_scRNA/inf_abund_scRNA_sublin2_V1.csv\")#%%\n",
    "\n",
    "\n"
   ],
   "id": "73091057a60e014e",
   "outputs": [],
   "execution_count": 34
  },
  {
   "metadata": {},
   "cell_type": "code",
   "outputs": [],
   "execution_count": null,
   "source": [
    "plot_spatial(\n",
    "        adata=slide, \n",
    "        # labels to show on a plot\n",
    "        color=clust_col, labels=clust_labels, \n",
    "        show_img=True,\n",
    "        # 'fast' (white background) or 'dark_background'\n",
    "        style='fast', \n",
    "        # limit color scale at 99.2% quantile of cell abundance\n",
    "        max_color_quantile=0.992,\n",
    "        # size of locations (adjust depending on figure size)\n",
    "        circle_diameter=6, \n",
    "        colorbar_position='right'\n",
    "    )"
   ],
   "id": "6d406cf84657d023"
  },
  {
   "metadata": {},
   "cell_type": "code",
   "outputs": [],
   "execution_count": null,
   "source": "b# ignore",
   "id": "1ef9498139421923"
  },
  {
   "metadata": {
    "ExecuteTime": {
     "end_time": "2025-07-21T22:50:54.560986Z",
     "start_time": "2025-07-21T22:50:45.440520Z"
    }
   },
   "cell_type": "code",
   "source": [
    "import numpy as np\n",
    "import pandas as pd\n",
    "import scanpy as sc\n",
    "\n",
    "def stratified_subsample(adata, obs_column, target_n=300_000, random_state=0):\n",
    "    \"\"\"\n",
    "    Downsample AnnData to `target_n` cells, preserving proportions in `obs_column`.\n",
    "    \n",
    "    Parameters:\n",
    "        adata (AnnData): Input AnnData object.\n",
    "        obs_column (str): Name of the column in `adata.obs` to stratify by.\n",
    "        target_n (int): Total number of cells to retain.\n",
    "        random_state (int): Seed for reproducibility.\n",
    "    \n",
    "    Returns:\n",
    "        AnnData: Downsampled AnnData object.\n",
    "    \"\"\"\n",
    "    # Get value counts and compute how many to sample per group\n",
    "    counts = adata.obs[obs_column].value_counts(normalize=True)\n",
    "    n_per_group = (counts * target_n).round().astype(int)\n",
    "\n",
    "    # Collect sampled indices for each group\n",
    "    sampled_indices = []\n",
    "    for group, n in n_per_group.items():\n",
    "        group_indices = adata.obs[adata.obs[obs_column] == group].index\n",
    "        sampled = np.random.RandomState(seed=random_state).choice(group_indices, size=n, replace=False)\n",
    "        sampled_indices.extend(sampled)\n",
    "\n",
    "    return adata[sampled_indices].copy()\n",
    "\n",
    "# Example usage:\n",
    "#adata_subsampled = stratified_subsample(adata[\"GEX\"], obs_column=\"sub_lin2\", target_n=300_000)\n"
   ],
   "id": "b2df9f4d8e1242d",
   "outputs": [
    {
     "ename": "KeyboardInterrupt",
     "evalue": "",
     "output_type": "error",
     "traceback": [
      "\u001B[0;31m---------------------------------------------------------------------------\u001B[0m",
      "\u001B[0;31mKeyboardInterrupt\u001B[0m                         Traceback (most recent call last)",
      "Cell \u001B[0;32mIn[33], line 32\u001B[0m\n\u001B[1;32m     29\u001B[0m     \u001B[38;5;28;01mreturn\u001B[39;00m adata[sampled_indices]\u001B[38;5;241m.\u001B[39mcopy()\n\u001B[1;32m     31\u001B[0m \u001B[38;5;66;03m# Example usage:\u001B[39;00m\n\u001B[0;32m---> 32\u001B[0m adata_subsampled \u001B[38;5;241m=\u001B[39m \u001B[43mstratified_subsample\u001B[49m\u001B[43m(\u001B[49m\u001B[43madata\u001B[49m\u001B[43m[\u001B[49m\u001B[38;5;124;43m\"\u001B[39;49m\u001B[38;5;124;43mGEX\u001B[39;49m\u001B[38;5;124;43m\"\u001B[39;49m\u001B[43m]\u001B[49m\u001B[43m,\u001B[49m\u001B[43m \u001B[49m\u001B[43mobs_column\u001B[49m\u001B[38;5;241;43m=\u001B[39;49m\u001B[38;5;124;43m\"\u001B[39;49m\u001B[38;5;124;43msub_lin\u001B[39;49m\u001B[38;5;124;43m\"\u001B[39;49m\u001B[43m,\u001B[49m\u001B[43m \u001B[49m\u001B[43mtarget_n\u001B[49m\u001B[38;5;241;43m=\u001B[39;49m\u001B[38;5;241;43m300_000\u001B[39;49m\u001B[43m)\u001B[49m\n",
      "Cell \u001B[0;32mIn[33], line 29\u001B[0m, in \u001B[0;36mstratified_subsample\u001B[0;34m(adata, obs_column, target_n, random_state)\u001B[0m\n\u001B[1;32m     26\u001B[0m     sampled \u001B[38;5;241m=\u001B[39m np\u001B[38;5;241m.\u001B[39mrandom\u001B[38;5;241m.\u001B[39mRandomState(seed\u001B[38;5;241m=\u001B[39mrandom_state)\u001B[38;5;241m.\u001B[39mchoice(group_indices, size\u001B[38;5;241m=\u001B[39mn, replace\u001B[38;5;241m=\u001B[39m\u001B[38;5;28;01mFalse\u001B[39;00m)\n\u001B[1;32m     27\u001B[0m     sampled_indices\u001B[38;5;241m.\u001B[39mextend(sampled)\n\u001B[0;32m---> 29\u001B[0m \u001B[38;5;28;01mreturn\u001B[39;00m \u001B[43madata\u001B[49m\u001B[43m[\u001B[49m\u001B[43msampled_indices\u001B[49m\u001B[43m]\u001B[49m\u001B[38;5;241m.\u001B[39mcopy()\n",
      "File \u001B[0;32m~/cell2location/lib/python3.9/site-packages/anndata/_core/anndata.py:1086\u001B[0m, in \u001B[0;36mAnnData.__getitem__\u001B[0;34m(self, index)\u001B[0m\n\u001B[1;32m   1084\u001B[0m \u001B[38;5;250m\u001B[39m\u001B[38;5;124;03m\"\"\"Returns a sliced view of the object.\"\"\"\u001B[39;00m\n\u001B[1;32m   1085\u001B[0m oidx, vidx \u001B[38;5;241m=\u001B[39m \u001B[38;5;28mself\u001B[39m\u001B[38;5;241m.\u001B[39m_normalize_indices(index)\n\u001B[0;32m-> 1086\u001B[0m \u001B[38;5;28;01mreturn\u001B[39;00m \u001B[43mAnnData\u001B[49m\u001B[43m(\u001B[49m\u001B[38;5;28;43mself\u001B[39;49m\u001B[43m,\u001B[49m\u001B[43m \u001B[49m\u001B[43moidx\u001B[49m\u001B[38;5;241;43m=\u001B[39;49m\u001B[43moidx\u001B[49m\u001B[43m,\u001B[49m\u001B[43m \u001B[49m\u001B[43mvidx\u001B[49m\u001B[38;5;241;43m=\u001B[39;49m\u001B[43mvidx\u001B[49m\u001B[43m,\u001B[49m\u001B[43m \u001B[49m\u001B[43masview\u001B[49m\u001B[38;5;241;43m=\u001B[39;49m\u001B[38;5;28;43;01mTrue\u001B[39;49;00m\u001B[43m)\u001B[49m\n",
      "File \u001B[0;32m~/cell2location/lib/python3.9/site-packages/anndata/_core/anndata.py:269\u001B[0m, in \u001B[0;36mAnnData.__init__\u001B[0;34m(self, X, obs, var, uns, obsm, varm, layers, raw, dtype, shape, filename, filemode, asview, obsp, varp, oidx, vidx)\u001B[0m\n\u001B[1;32m    267\u001B[0m     \u001B[38;5;28;01mif\u001B[39;00m \u001B[38;5;129;01mnot\u001B[39;00m \u001B[38;5;28misinstance\u001B[39m(X, AnnData):\n\u001B[1;32m    268\u001B[0m         \u001B[38;5;28;01mraise\u001B[39;00m \u001B[38;5;167;01mValueError\u001B[39;00m(\u001B[38;5;124m\"\u001B[39m\u001B[38;5;124m`X` has to be an AnnData object.\u001B[39m\u001B[38;5;124m\"\u001B[39m)\n\u001B[0;32m--> 269\u001B[0m     \u001B[38;5;28;43mself\u001B[39;49m\u001B[38;5;241;43m.\u001B[39;49m\u001B[43m_init_as_view\u001B[49m\u001B[43m(\u001B[49m\u001B[43mX\u001B[49m\u001B[43m,\u001B[49m\u001B[43m \u001B[49m\u001B[43moidx\u001B[49m\u001B[43m,\u001B[49m\u001B[43m \u001B[49m\u001B[43mvidx\u001B[49m\u001B[43m)\u001B[49m\n\u001B[1;32m    270\u001B[0m \u001B[38;5;28;01melse\u001B[39;00m:\n\u001B[1;32m    271\u001B[0m     \u001B[38;5;28mself\u001B[39m\u001B[38;5;241m.\u001B[39m_init_as_actual(\n\u001B[1;32m    272\u001B[0m         X\u001B[38;5;241m=\u001B[39mX,\n\u001B[1;32m    273\u001B[0m         obs\u001B[38;5;241m=\u001B[39mobs,\n\u001B[0;32m   (...)\u001B[0m\n\u001B[1;32m    285\u001B[0m         filemode\u001B[38;5;241m=\u001B[39mfilemode,\n\u001B[1;32m    286\u001B[0m     )\n",
      "File \u001B[0;32m~/cell2location/lib/python3.9/site-packages/anndata/_core/anndata.py:339\u001B[0m, in \u001B[0;36mAnnData._init_as_view\u001B[0;34m(self, adata_ref, oidx, vidx)\u001B[0m\n\u001B[1;32m    336\u001B[0m \u001B[38;5;66;03m# set raw, easy, as it’s immutable anyways...\u001B[39;00m\n\u001B[1;32m    337\u001B[0m \u001B[38;5;28;01mif\u001B[39;00m adata_ref\u001B[38;5;241m.\u001B[39m_raw \u001B[38;5;129;01mis\u001B[39;00m \u001B[38;5;129;01mnot\u001B[39;00m \u001B[38;5;28;01mNone\u001B[39;00m:\n\u001B[1;32m    338\u001B[0m     \u001B[38;5;66;03m# slicing along variables axis is ignored\u001B[39;00m\n\u001B[0;32m--> 339\u001B[0m     \u001B[38;5;28mself\u001B[39m\u001B[38;5;241m.\u001B[39m_raw \u001B[38;5;241m=\u001B[39m \u001B[43madata_ref\u001B[49m\u001B[38;5;241;43m.\u001B[39;49m\u001B[43mraw\u001B[49m\u001B[43m[\u001B[49m\u001B[43moidx\u001B[49m\u001B[43m]\u001B[49m\n\u001B[1;32m    340\u001B[0m     \u001B[38;5;28mself\u001B[39m\u001B[38;5;241m.\u001B[39m_raw\u001B[38;5;241m.\u001B[39m_adata \u001B[38;5;241m=\u001B[39m \u001B[38;5;28mself\u001B[39m\n\u001B[1;32m    341\u001B[0m \u001B[38;5;28;01melse\u001B[39;00m:\n",
      "File \u001B[0;32m~/cell2location/lib/python3.9/site-packages/anndata/_core/raw.py:128\u001B[0m, in \u001B[0;36mRaw.__getitem__\u001B[0;34m(self, index)\u001B[0m\n\u001B[1;32m    125\u001B[0m     oidx \u001B[38;5;241m=\u001B[39m \u001B[38;5;28mslice\u001B[39m(oidx, oidx \u001B[38;5;241m+\u001B[39m \u001B[38;5;241m1\u001B[39m, \u001B[38;5;241m1\u001B[39m)\n\u001B[1;32m    127\u001B[0m \u001B[38;5;28;01mif\u001B[39;00m \u001B[38;5;129;01mnot\u001B[39;00m \u001B[38;5;28mself\u001B[39m\u001B[38;5;241m.\u001B[39m_adata\u001B[38;5;241m.\u001B[39misbacked:\n\u001B[0;32m--> 128\u001B[0m     X \u001B[38;5;241m=\u001B[39m \u001B[43m_subset\u001B[49m\u001B[43m(\u001B[49m\u001B[38;5;28;43mself\u001B[39;49m\u001B[38;5;241;43m.\u001B[39;49m\u001B[43mX\u001B[49m\u001B[43m,\u001B[49m\u001B[43m \u001B[49m\u001B[43m(\u001B[49m\u001B[43moidx\u001B[49m\u001B[43m,\u001B[49m\u001B[43m \u001B[49m\u001B[43mvidx\u001B[49m\u001B[43m)\u001B[49m\u001B[43m)\u001B[49m\n\u001B[1;32m    129\u001B[0m \u001B[38;5;28;01melse\u001B[39;00m:\n\u001B[1;32m    130\u001B[0m     X \u001B[38;5;241m=\u001B[39m \u001B[38;5;28;01mNone\u001B[39;00m\n",
      "File \u001B[0;32m~/.pyenv/versions/3.9.12/lib/python3.9/functools.py:888\u001B[0m, in \u001B[0;36msingledispatch.<locals>.wrapper\u001B[0;34m(*args, **kw)\u001B[0m\n\u001B[1;32m    884\u001B[0m \u001B[38;5;28;01mif\u001B[39;00m \u001B[38;5;129;01mnot\u001B[39;00m args:\n\u001B[1;32m    885\u001B[0m     \u001B[38;5;28;01mraise\u001B[39;00m \u001B[38;5;167;01mTypeError\u001B[39;00m(\u001B[38;5;124mf\u001B[39m\u001B[38;5;124m'\u001B[39m\u001B[38;5;132;01m{\u001B[39;00mfuncname\u001B[38;5;132;01m}\u001B[39;00m\u001B[38;5;124m requires at least \u001B[39m\u001B[38;5;124m'\u001B[39m\n\u001B[1;32m    886\u001B[0m                     \u001B[38;5;124m'\u001B[39m\u001B[38;5;124m1 positional argument\u001B[39m\u001B[38;5;124m'\u001B[39m)\n\u001B[0;32m--> 888\u001B[0m \u001B[38;5;28;01mreturn\u001B[39;00m \u001B[43mdispatch\u001B[49m\u001B[43m(\u001B[49m\u001B[43margs\u001B[49m\u001B[43m[\u001B[49m\u001B[38;5;241;43m0\u001B[39;49m\u001B[43m]\u001B[49m\u001B[38;5;241;43m.\u001B[39;49m\u001B[38;5;18;43m__class__\u001B[39;49m\u001B[43m)\u001B[49m\u001B[43m(\u001B[49m\u001B[38;5;241;43m*\u001B[39;49m\u001B[43margs\u001B[49m\u001B[43m,\u001B[49m\u001B[43m \u001B[49m\u001B[38;5;241;43m*\u001B[39;49m\u001B[38;5;241;43m*\u001B[39;49m\u001B[43mkw\u001B[49m\u001B[43m)\u001B[49m\n",
      "File \u001B[0;32m~/cell2location/lib/python3.9/site-packages/anndata/_core/index.py:165\u001B[0m, in \u001B[0;36m_subset_spmatrix\u001B[0;34m(a, subset_idx)\u001B[0m\n\u001B[1;32m    163\u001B[0m         first_idx \u001B[38;5;241m=\u001B[39m np\u001B[38;5;241m.\u001B[39mwhere(first_idx)[\u001B[38;5;241m0\u001B[39m]\n\u001B[1;32m    164\u001B[0m     subset_idx \u001B[38;5;241m=\u001B[39m (first_idx\u001B[38;5;241m.\u001B[39mreshape(\u001B[38;5;241m-\u001B[39m\u001B[38;5;241m1\u001B[39m, \u001B[38;5;241m1\u001B[39m), \u001B[38;5;241m*\u001B[39msubset_idx[\u001B[38;5;241m1\u001B[39m:])\n\u001B[0;32m--> 165\u001B[0m \u001B[38;5;28;01mreturn\u001B[39;00m \u001B[43ma\u001B[49m\u001B[43m[\u001B[49m\u001B[43msubset_idx\u001B[49m\u001B[43m]\u001B[49m\n",
      "File \u001B[0;32m~/cell2location/lib/python3.9/site-packages/scipy/sparse/_index.py:83\u001B[0m, in \u001B[0;36mIndexMixin.__getitem__\u001B[0;34m(self, key)\u001B[0m\n\u001B[1;32m     81\u001B[0m         \u001B[38;5;28;01mreturn\u001B[39;00m \u001B[38;5;28mself\u001B[39m\u001B[38;5;241m.\u001B[39m_get_arrayXint(row, col)\n\u001B[1;32m     82\u001B[0m     \u001B[38;5;28;01melif\u001B[39;00m \u001B[38;5;28misinstance\u001B[39m(col, \u001B[38;5;28mslice\u001B[39m):\n\u001B[0;32m---> 83\u001B[0m         \u001B[38;5;28;01mreturn\u001B[39;00m \u001B[38;5;28;43mself\u001B[39;49m\u001B[38;5;241;43m.\u001B[39;49m\u001B[43m_get_arrayXslice\u001B[49m\u001B[43m(\u001B[49m\u001B[43mrow\u001B[49m\u001B[43m,\u001B[49m\u001B[43m \u001B[49m\u001B[43mcol\u001B[49m\u001B[43m)\u001B[49m\n\u001B[1;32m     84\u001B[0m \u001B[38;5;28;01melse\u001B[39;00m:  \u001B[38;5;66;03m# row.ndim == 2\u001B[39;00m\n\u001B[1;32m     85\u001B[0m     \u001B[38;5;28;01mif\u001B[39;00m \u001B[38;5;28misinstance\u001B[39m(col, INT_TYPES):\n",
      "File \u001B[0;32m~/cell2location/lib/python3.9/site-packages/scipy/sparse/_csr.py:217\u001B[0m, in \u001B[0;36m_csr_base._get_arrayXslice\u001B[0;34m(self, row, col)\u001B[0m\n\u001B[1;32m    215\u001B[0m     col \u001B[38;5;241m=\u001B[39m np\u001B[38;5;241m.\u001B[39marange(\u001B[38;5;241m*\u001B[39mcol\u001B[38;5;241m.\u001B[39mindices(\u001B[38;5;28mself\u001B[39m\u001B[38;5;241m.\u001B[39mshape[\u001B[38;5;241m1\u001B[39m]))\n\u001B[1;32m    216\u001B[0m     \u001B[38;5;28;01mreturn\u001B[39;00m \u001B[38;5;28mself\u001B[39m\u001B[38;5;241m.\u001B[39m_get_arrayXarray(row, col)\n\u001B[0;32m--> 217\u001B[0m \u001B[38;5;28;01mreturn\u001B[39;00m \u001B[38;5;28;43mself\u001B[39;49m\u001B[38;5;241;43m.\u001B[39;49m\u001B[43m_major_index_fancy\u001B[49m\u001B[43m(\u001B[49m\u001B[43mrow\u001B[49m\u001B[43m)\u001B[49m\u001B[38;5;241m.\u001B[39m_get_submatrix(minor\u001B[38;5;241m=\u001B[39mcol)\n",
      "File \u001B[0;32m~/cell2location/lib/python3.9/site-packages/scipy/sparse/_compressed.py:710\u001B[0m, in \u001B[0;36m_cs_matrix._major_index_fancy\u001B[0;34m(self, idx)\u001B[0m\n\u001B[1;32m    708\u001B[0m res_indices \u001B[38;5;241m=\u001B[39m np\u001B[38;5;241m.\u001B[39mempty(nnz, dtype\u001B[38;5;241m=\u001B[39midx_dtype)\n\u001B[1;32m    709\u001B[0m res_data \u001B[38;5;241m=\u001B[39m np\u001B[38;5;241m.\u001B[39mempty(nnz, dtype\u001B[38;5;241m=\u001B[39m\u001B[38;5;28mself\u001B[39m\u001B[38;5;241m.\u001B[39mdtype)\n\u001B[0;32m--> 710\u001B[0m \u001B[43mcsr_row_index\u001B[49m\u001B[43m(\u001B[49m\n\u001B[1;32m    711\u001B[0m \u001B[43m    \u001B[49m\u001B[43mM\u001B[49m\u001B[43m,\u001B[49m\n\u001B[1;32m    712\u001B[0m \u001B[43m    \u001B[49m\u001B[43mindices\u001B[49m\u001B[43m,\u001B[49m\n\u001B[1;32m    713\u001B[0m \u001B[43m    \u001B[49m\u001B[38;5;28;43mself\u001B[39;49m\u001B[38;5;241;43m.\u001B[39;49m\u001B[43mindptr\u001B[49m\u001B[38;5;241;43m.\u001B[39;49m\u001B[43mastype\u001B[49m\u001B[43m(\u001B[49m\u001B[43midx_dtype\u001B[49m\u001B[43m,\u001B[49m\u001B[43m \u001B[49m\u001B[43mcopy\u001B[49m\u001B[38;5;241;43m=\u001B[39;49m\u001B[38;5;28;43;01mFalse\u001B[39;49;00m\u001B[43m)\u001B[49m\u001B[43m,\u001B[49m\n\u001B[1;32m    714\u001B[0m \u001B[43m    \u001B[49m\u001B[38;5;28;43mself\u001B[39;49m\u001B[38;5;241;43m.\u001B[39;49m\u001B[43mindices\u001B[49m\u001B[38;5;241;43m.\u001B[39;49m\u001B[43mastype\u001B[49m\u001B[43m(\u001B[49m\u001B[43midx_dtype\u001B[49m\u001B[43m,\u001B[49m\u001B[43m \u001B[49m\u001B[43mcopy\u001B[49m\u001B[38;5;241;43m=\u001B[39;49m\u001B[38;5;28;43;01mFalse\u001B[39;49;00m\u001B[43m)\u001B[49m\u001B[43m,\u001B[49m\n\u001B[1;32m    715\u001B[0m \u001B[43m    \u001B[49m\u001B[38;5;28;43mself\u001B[39;49m\u001B[38;5;241;43m.\u001B[39;49m\u001B[43mdata\u001B[49m\u001B[43m,\u001B[49m\n\u001B[1;32m    716\u001B[0m \u001B[43m    \u001B[49m\u001B[43mres_indices\u001B[49m\u001B[43m,\u001B[49m\n\u001B[1;32m    717\u001B[0m \u001B[43m    \u001B[49m\u001B[43mres_data\u001B[49m\n\u001B[1;32m    718\u001B[0m \u001B[43m\u001B[49m\u001B[43m)\u001B[49m\n\u001B[1;32m    720\u001B[0m \u001B[38;5;28;01mreturn\u001B[39;00m \u001B[38;5;28mself\u001B[39m\u001B[38;5;241m.\u001B[39m\u001B[38;5;18m__class__\u001B[39m((res_data, res_indices, res_indptr),\n\u001B[1;32m    721\u001B[0m                       shape\u001B[38;5;241m=\u001B[39mnew_shape, copy\u001B[38;5;241m=\u001B[39m\u001B[38;5;28;01mFalse\u001B[39;00m)\n",
      "\u001B[0;31mKeyboardInterrupt\u001B[0m: "
     ]
    }
   ],
   "execution_count": 33
  },
  {
   "metadata": {
    "ExecuteTime": {
     "end_time": "2025-07-21T23:39:07.198345Z",
     "start_time": "2025-07-21T23:39:07.190794Z"
    }
   },
   "cell_type": "code",
   "source": "adata[\"GEX\"].obs.loc[is.na(adata[\"GEX\"].obs['sub_lin2']),;].copy()",
   "id": "44ac9e45ad84805d",
   "outputs": [
    {
     "ename": "SyntaxError",
     "evalue": "invalid syntax (1068729423.py, line 1)",
     "output_type": "error",
     "traceback": [
      "\u001B[0;36m  Cell \u001B[0;32mIn[11], line 1\u001B[0;36m\u001B[0m\n\u001B[0;31m    adata[\"GEX\"].obs.loc[is.na(adata[\"GEX\"].obs['sub_lin2']),;].copy()\u001B[0m\n\u001B[0m                         ^\u001B[0m\n\u001B[0;31mSyntaxError\u001B[0m\u001B[0;31m:\u001B[0m invalid syntax\n"
     ]
    }
   ],
   "execution_count": 11
  },
  {
   "metadata": {
    "ExecuteTime": {
     "end_time": "2025-07-21T22:49:26.072645Z",
     "start_time": "2025-07-21T22:43:58.885850Z"
    }
   },
   "cell_type": "code",
   "source": "adata[\"GEX\"].layers[\"raw\"] = adata[\"GEX\"].raw.X.copy()",
   "id": "cc5fe0fc514e7cb",
   "outputs": [
    {
     "ename": "KeyboardInterrupt",
     "evalue": "",
     "output_type": "error",
     "traceback": [
      "\u001B[0;31m---------------------------------------------------------------------------\u001B[0m",
      "\u001B[0;31mKeyboardInterrupt\u001B[0m                         Traceback (most recent call last)",
      "Cell \u001B[0;32mIn[31], line 1\u001B[0m\n\u001B[0;32m----> 1\u001B[0m adata[\u001B[38;5;124m\"\u001B[39m\u001B[38;5;124mGEX\u001B[39m\u001B[38;5;124m\"\u001B[39m]\u001B[38;5;241m.\u001B[39mlayers[\u001B[38;5;124m\"\u001B[39m\u001B[38;5;124mraw\u001B[39m\u001B[38;5;124m\"\u001B[39m] \u001B[38;5;241m=\u001B[39m \u001B[43madata\u001B[49m\u001B[43m[\u001B[49m\u001B[38;5;124;43m\"\u001B[39;49m\u001B[38;5;124;43mGEX\u001B[39;49m\u001B[38;5;124;43m\"\u001B[39;49m\u001B[43m]\u001B[49m\u001B[38;5;241;43m.\u001B[39;49m\u001B[43mraw\u001B[49m\u001B[38;5;241;43m.\u001B[39;49m\u001B[43mX\u001B[49m\u001B[38;5;241;43m.\u001B[39;49m\u001B[43mcopy\u001B[49m\u001B[43m(\u001B[49m\u001B[43m)\u001B[49m\n",
      "File \u001B[0;32m~/cell2location/lib/python3.9/site-packages/scipy/sparse/_data.py:95\u001B[0m, in \u001B[0;36m_data_matrix.copy\u001B[0;34m(self)\u001B[0m\n\u001B[1;32m     94\u001B[0m \u001B[38;5;28;01mdef\u001B[39;00m\u001B[38;5;250m \u001B[39m\u001B[38;5;21mcopy\u001B[39m(\u001B[38;5;28mself\u001B[39m):\n\u001B[0;32m---> 95\u001B[0m     \u001B[38;5;28;01mreturn\u001B[39;00m \u001B[38;5;28;43mself\u001B[39;49m\u001B[38;5;241;43m.\u001B[39;49m\u001B[43m_with_data\u001B[49m\u001B[43m(\u001B[49m\u001B[38;5;28;43mself\u001B[39;49m\u001B[38;5;241;43m.\u001B[39;49m\u001B[43mdata\u001B[49m\u001B[38;5;241;43m.\u001B[39;49m\u001B[43mcopy\u001B[49m\u001B[43m(\u001B[49m\u001B[43m)\u001B[49m\u001B[43m,\u001B[49m\u001B[43m \u001B[49m\u001B[43mcopy\u001B[49m\u001B[38;5;241;43m=\u001B[39;49m\u001B[38;5;28;43;01mTrue\u001B[39;49;00m\u001B[43m)\u001B[49m\n",
      "File \u001B[0;32m~/cell2location/lib/python3.9/site-packages/scipy/sparse/_compressed.py:1284\u001B[0m, in \u001B[0;36m_cs_matrix._with_data\u001B[0;34m(self, data, copy)\u001B[0m\n\u001B[1;32m   1279\u001B[0m \u001B[38;5;250m\u001B[39m\u001B[38;5;124;03m\"\"\"Returns a matrix with the same sparsity structure as self,\u001B[39;00m\n\u001B[1;32m   1280\u001B[0m \u001B[38;5;124;03mbut with different data.  By default the structure arrays\u001B[39;00m\n\u001B[1;32m   1281\u001B[0m \u001B[38;5;124;03m(i.e. .indptr and .indices) are copied.\u001B[39;00m\n\u001B[1;32m   1282\u001B[0m \u001B[38;5;124;03m\"\"\"\u001B[39;00m\n\u001B[1;32m   1283\u001B[0m \u001B[38;5;28;01mif\u001B[39;00m copy:\n\u001B[0;32m-> 1284\u001B[0m     \u001B[38;5;28;01mreturn\u001B[39;00m \u001B[38;5;28mself\u001B[39m\u001B[38;5;241m.\u001B[39m\u001B[38;5;18m__class__\u001B[39m((data, \u001B[38;5;28;43mself\u001B[39;49m\u001B[38;5;241;43m.\u001B[39;49m\u001B[43mindices\u001B[49m\u001B[38;5;241;43m.\u001B[39;49m\u001B[43mcopy\u001B[49m\u001B[43m(\u001B[49m\u001B[43m)\u001B[49m,\n\u001B[1;32m   1285\u001B[0m                            \u001B[38;5;28mself\u001B[39m\u001B[38;5;241m.\u001B[39mindptr\u001B[38;5;241m.\u001B[39mcopy()),\n\u001B[1;32m   1286\u001B[0m                           shape\u001B[38;5;241m=\u001B[39m\u001B[38;5;28mself\u001B[39m\u001B[38;5;241m.\u001B[39mshape,\n\u001B[1;32m   1287\u001B[0m                           dtype\u001B[38;5;241m=\u001B[39mdata\u001B[38;5;241m.\u001B[39mdtype)\n\u001B[1;32m   1288\u001B[0m \u001B[38;5;28;01melse\u001B[39;00m:\n\u001B[1;32m   1289\u001B[0m     \u001B[38;5;28;01mreturn\u001B[39;00m \u001B[38;5;28mself\u001B[39m\u001B[38;5;241m.\u001B[39m\u001B[38;5;18m__class__\u001B[39m((data, \u001B[38;5;28mself\u001B[39m\u001B[38;5;241m.\u001B[39mindices, \u001B[38;5;28mself\u001B[39m\u001B[38;5;241m.\u001B[39mindptr),\n\u001B[1;32m   1290\u001B[0m                           shape\u001B[38;5;241m=\u001B[39m\u001B[38;5;28mself\u001B[39m\u001B[38;5;241m.\u001B[39mshape, dtype\u001B[38;5;241m=\u001B[39mdata\u001B[38;5;241m.\u001B[39mdtype)\n",
      "\u001B[0;31mKeyboardInterrupt\u001B[0m: "
     ]
    }
   ],
   "execution_count": 31
  },
  {
   "metadata": {},
   "cell_type": "code",
   "outputs": [],
   "execution_count": null,
   "source": "adata[\"GEX\"]",
   "id": "b54affc5dca46e48"
  },
  {
   "metadata": {},
   "cell_type": "code",
   "outputs": [],
   "execution_count": null,
   "source": "sc.pl.umap(adata[\"GEX\"],color = \"sub_lin2\",use_raw=False)",
   "id": "ecc325d074762800"
  },
  {
   "metadata": {
    "ExecuteTime": {
     "end_time": "2025-07-21T22:01:15.817451Z",
     "start_time": "2025-07-21T22:01:15.798926Z"
    }
   },
   "cell_type": "code",
   "source": "adata[\"GEX\"].obs['sub_lin2'].value_counts()",
   "id": "98267ee3726b7a16",
   "outputs": [
    {
     "data": {
      "text/plain": [
       "sub_lin2\n",
       "HBC_1                82025\n",
       "VCT_1                71845\n",
       "HBC_2_CXCL2_CXCL3    67940\n",
       "VCT_2                64422\n",
       "VCT_3                50386\n",
       "                     ...  \n",
       "fFB_prolif             125\n",
       "B_8                    110\n",
       "MAST                   106\n",
       "mMatureDC               88\n",
       "Nuetrophils             43\n",
       "Name: count, Length: 116, dtype: int64"
      ]
     },
     "execution_count": 20,
     "metadata": {},
     "output_type": "execute_result"
    }
   ],
   "execution_count": 20
  },
  {
   "metadata": {
    "ExecuteTime": {
     "end_time": "2025-07-21T22:40:47.645838Z",
     "start_time": "2025-07-21T22:40:47.638325Z"
    }
   },
   "cell_type": "code",
   "source": "adata[\"GEX\"].X",
   "id": "a001304acfb3d31",
   "outputs": [
    {
     "data": {
      "text/plain": [
       "<1228981x34812 sparse matrix of type '<class 'numpy.float32'>'\n",
       "\twith 2569880329 stored elements in Compressed Sparse Row format>"
      ]
     },
     "execution_count": 28,
     "metadata": {},
     "output_type": "execute_result"
    }
   ],
   "execution_count": 28
  },
  {
   "metadata": {
    "ExecuteTime": {
     "end_time": "2025-07-21T22:40:52.954637Z",
     "start_time": "2025-07-21T22:40:52.948837Z"
    }
   },
   "cell_type": "code",
   "source": "print(adata[\"GEX\"].X[1:10,1:10]) \n",
   "id": "5fd8ad9c89981f0a",
   "outputs": [
    {
     "name": "stdout",
     "output_type": "stream",
     "text": [
      "\n"
     ]
    }
   ],
   "execution_count": 29
  },
  {
   "metadata": {
    "ExecuteTime": {
     "end_time": "2025-07-21T22:40:05.017418Z",
     "start_time": "2025-07-21T22:40:02.193936Z"
    }
   },
   "cell_type": "code",
   "source": [
    "selected = c2l.utils.filtering.filter_genes(\n",
    "    adata[\"GEX\"], cell_count_cutoff=5, cell_percentage_cutoff2=0.03, nonz_mean_cutoff=1.12\n",
    ")"
   ],
   "id": "4a1cb754cf730d53",
   "outputs": [
    {
     "ename": "KeyboardInterrupt",
     "evalue": "",
     "output_type": "error",
     "traceback": [
      "\u001B[0;31m---------------------------------------------------------------------------\u001B[0m",
      "\u001B[0;31mKeyboardInterrupt\u001B[0m                         Traceback (most recent call last)",
      "Cell \u001B[0;32mIn[23], line 1\u001B[0m\n\u001B[0;32m----> 1\u001B[0m selected \u001B[38;5;241m=\u001B[39m \u001B[43mc2l\u001B[49m\u001B[38;5;241;43m.\u001B[39;49m\u001B[43mutils\u001B[49m\u001B[38;5;241;43m.\u001B[39;49m\u001B[43mfiltering\u001B[49m\u001B[38;5;241;43m.\u001B[39;49m\u001B[43mfilter_genes\u001B[49m\u001B[43m(\u001B[49m\n\u001B[1;32m      2\u001B[0m \u001B[43m    \u001B[49m\u001B[43madata\u001B[49m\u001B[43m[\u001B[49m\u001B[38;5;124;43m\"\u001B[39;49m\u001B[38;5;124;43mGEX\u001B[39;49m\u001B[38;5;124;43m\"\u001B[39;49m\u001B[43m]\u001B[49m\u001B[43m,\u001B[49m\u001B[43m \u001B[49m\u001B[43mcell_count_cutoff\u001B[49m\u001B[38;5;241;43m=\u001B[39;49m\u001B[38;5;241;43m5\u001B[39;49m\u001B[43m,\u001B[49m\u001B[43m \u001B[49m\u001B[43mcell_percentage_cutoff2\u001B[49m\u001B[38;5;241;43m=\u001B[39;49m\u001B[38;5;241;43m0.03\u001B[39;49m\u001B[43m,\u001B[49m\u001B[43m \u001B[49m\u001B[43mnonz_mean_cutoff\u001B[49m\u001B[38;5;241;43m=\u001B[39;49m\u001B[38;5;241;43m1.12\u001B[39;49m\n\u001B[1;32m      3\u001B[0m \u001B[43m)\u001B[49m\n",
      "File \u001B[0;32m~/cell2location/lib/python3.9/site-packages/cell2location/utils/filtering.py:26\u001B[0m, in \u001B[0;36mfilter_genes\u001B[0;34m(adata, cell_count_cutoff, cell_percentage_cutoff2, nonz_mean_cutoff)\u001B[0m\n\u001B[1;32m      6\u001B[0m \u001B[38;5;28;01mdef\u001B[39;00m\u001B[38;5;250m \u001B[39m\u001B[38;5;21mfilter_genes\u001B[39m(adata, cell_count_cutoff\u001B[38;5;241m=\u001B[39m\u001B[38;5;241m15\u001B[39m, cell_percentage_cutoff2\u001B[38;5;241m=\u001B[39m\u001B[38;5;241m0.05\u001B[39m, nonz_mean_cutoff\u001B[38;5;241m=\u001B[39m\u001B[38;5;241m1.12\u001B[39m):\n\u001B[1;32m      7\u001B[0m \u001B[38;5;250m    \u001B[39m\u001B[38;5;124mr\u001B[39m\u001B[38;5;124;03m\"\"\"Plot the gene filter given a set of cutoffs and return resulting list of genes.\u001B[39;00m\n\u001B[1;32m      8\u001B[0m \n\u001B[1;32m      9\u001B[0m \u001B[38;5;124;03m    Parameters\u001B[39;00m\n\u001B[0;32m   (...)\u001B[0m\n\u001B[1;32m     23\u001B[0m \u001B[38;5;124;03m    a list of selected var_names\u001B[39;00m\n\u001B[1;32m     24\u001B[0m \u001B[38;5;124;03m    \"\"\"\u001B[39;00m\n\u001B[0;32m---> 26\u001B[0m     adata\u001B[38;5;241m.\u001B[39mvar[\u001B[38;5;124m\"\u001B[39m\u001B[38;5;124mn_cells\u001B[39m\u001B[38;5;124m\"\u001B[39m] \u001B[38;5;241m=\u001B[39m np\u001B[38;5;241m.\u001B[39marray((\u001B[43madata\u001B[49m\u001B[38;5;241;43m.\u001B[39;49m\u001B[43mX\u001B[49m\u001B[43m \u001B[49m\u001B[38;5;241;43m>\u001B[39;49m\u001B[43m \u001B[49m\u001B[38;5;241;43m0\u001B[39;49m)\u001B[38;5;241m.\u001B[39msum(\u001B[38;5;241m0\u001B[39m))\u001B[38;5;241m.\u001B[39mflatten()\n\u001B[1;32m     27\u001B[0m     adata\u001B[38;5;241m.\u001B[39mvar[\u001B[38;5;124m\"\u001B[39m\u001B[38;5;124mnonz_mean\u001B[39m\u001B[38;5;124m\"\u001B[39m] \u001B[38;5;241m=\u001B[39m np\u001B[38;5;241m.\u001B[39marray(adata\u001B[38;5;241m.\u001B[39mX\u001B[38;5;241m.\u001B[39msum(\u001B[38;5;241m0\u001B[39m))\u001B[38;5;241m.\u001B[39mflatten() \u001B[38;5;241m/\u001B[39m adata\u001B[38;5;241m.\u001B[39mvar[\u001B[38;5;124m\"\u001B[39m\u001B[38;5;124mn_cells\u001B[39m\u001B[38;5;124m\"\u001B[39m]\n\u001B[1;32m     29\u001B[0m     cell_count_cutoff \u001B[38;5;241m=\u001B[39m np\u001B[38;5;241m.\u001B[39mlog10(cell_count_cutoff)\n",
      "File \u001B[0;32m~/cell2location/lib/python3.9/site-packages/scipy/sparse/_compressed.py:324\u001B[0m, in \u001B[0;36m_cs_matrix.__gt__\u001B[0;34m(self, other)\u001B[0m\n\u001B[1;32m    323\u001B[0m \u001B[38;5;28;01mdef\u001B[39;00m\u001B[38;5;250m \u001B[39m\u001B[38;5;21m__gt__\u001B[39m(\u001B[38;5;28mself\u001B[39m, other):\n\u001B[0;32m--> 324\u001B[0m     \u001B[38;5;28;01mreturn\u001B[39;00m \u001B[38;5;28;43mself\u001B[39;49m\u001B[38;5;241;43m.\u001B[39;49m\u001B[43m_inequality\u001B[49m\u001B[43m(\u001B[49m\u001B[43mother\u001B[49m\u001B[43m,\u001B[49m\u001B[43m \u001B[49m\u001B[43moperator\u001B[49m\u001B[38;5;241;43m.\u001B[39;49m\u001B[43mgt\u001B[49m\u001B[43m,\u001B[49m\u001B[43m \u001B[49m\u001B[38;5;124;43m'\u001B[39;49m\u001B[38;5;124;43m_gt_\u001B[39;49m\u001B[38;5;124;43m'\u001B[39;49m\u001B[43m,\u001B[49m\n\u001B[1;32m    325\u001B[0m \u001B[43m                            \u001B[49m\u001B[38;5;124;43m\"\u001B[39;49m\u001B[38;5;124;43mComparing a sparse matrix with a scalar \u001B[39;49m\u001B[38;5;124;43m\"\u001B[39;49m\n\u001B[1;32m    326\u001B[0m \u001B[43m                            \u001B[49m\u001B[38;5;124;43m\"\u001B[39;49m\u001B[38;5;124;43mless than zero using > is inefficient, \u001B[39;49m\u001B[38;5;124;43m\"\u001B[39;49m\n\u001B[1;32m    327\u001B[0m \u001B[43m                            \u001B[49m\u001B[38;5;124;43m\"\u001B[39;49m\u001B[38;5;124;43mtry using <= instead.\u001B[39;49m\u001B[38;5;124;43m\"\u001B[39;49m\u001B[43m)\u001B[49m\n",
      "File \u001B[0;32m~/cell2location/lib/python3.9/site-packages/scipy/sparse/_compressed.py:294\u001B[0m, in \u001B[0;36m_cs_matrix._inequality\u001B[0;34m(self, other, op, op_name, bad_scalar_msg)\u001B[0m\n\u001B[1;32m    292\u001B[0m         \u001B[38;5;28;01mreturn\u001B[39;00m \u001B[38;5;28mself\u001B[39m\u001B[38;5;241m.\u001B[39m_binopt(other_arr, op_name)\n\u001B[1;32m    293\u001B[0m     \u001B[38;5;28;01melse\u001B[39;00m:\n\u001B[0;32m--> 294\u001B[0m         \u001B[38;5;28;01mreturn\u001B[39;00m \u001B[38;5;28;43mself\u001B[39;49m\u001B[38;5;241;43m.\u001B[39;49m\u001B[43m_scalar_binopt\u001B[49m\u001B[43m(\u001B[49m\u001B[43mother\u001B[49m\u001B[43m,\u001B[49m\u001B[43m \u001B[49m\u001B[43mop\u001B[49m\u001B[43m)\u001B[49m\n\u001B[1;32m    295\u001B[0m \u001B[38;5;66;03m# Dense other.\u001B[39;00m\n\u001B[1;32m    296\u001B[0m \u001B[38;5;28;01melif\u001B[39;00m isdense(other):\n",
      "File \u001B[0;32m~/cell2location/lib/python3.9/site-packages/scipy/sparse/_compressed.py:208\u001B[0m, in \u001B[0;36m_cs_matrix._scalar_binopt\u001B[0;34m(self, other, op)\u001B[0m\n\u001B[1;32m    204\u001B[0m \u001B[38;5;250m\u001B[39m\u001B[38;5;124;03m\"\"\"Scalar version of self._binopt, for cases in which no new nonzeros\u001B[39;00m\n\u001B[1;32m    205\u001B[0m \u001B[38;5;124;03mare added. Produces a new sparse array in canonical form.\u001B[39;00m\n\u001B[1;32m    206\u001B[0m \u001B[38;5;124;03m\"\"\"\u001B[39;00m\n\u001B[1;32m    207\u001B[0m \u001B[38;5;28mself\u001B[39m\u001B[38;5;241m.\u001B[39msum_duplicates()\n\u001B[0;32m--> 208\u001B[0m res \u001B[38;5;241m=\u001B[39m \u001B[38;5;28mself\u001B[39m\u001B[38;5;241m.\u001B[39m_with_data(\u001B[43mop\u001B[49m\u001B[43m(\u001B[49m\u001B[38;5;28;43mself\u001B[39;49m\u001B[38;5;241;43m.\u001B[39;49m\u001B[43mdata\u001B[49m\u001B[43m,\u001B[49m\u001B[43m \u001B[49m\u001B[43mother\u001B[49m\u001B[43m)\u001B[49m, copy\u001B[38;5;241m=\u001B[39m\u001B[38;5;28;01mTrue\u001B[39;00m)\n\u001B[1;32m    209\u001B[0m res\u001B[38;5;241m.\u001B[39meliminate_zeros()\n\u001B[1;32m    210\u001B[0m \u001B[38;5;28;01mreturn\u001B[39;00m res\n",
      "\u001B[0;31mKeyboardInterrupt\u001B[0m: "
     ]
    }
   ],
   "execution_count": 23
  },
  {
   "metadata": {},
   "cell_type": "code",
   "outputs": [],
   "execution_count": null,
   "source": "",
   "id": "a42579aa3a07f2fc"
  }
 ],
 "metadata": {
  "kernelspec": {
   "display_name": "Python 3",
   "language": "python",
   "name": "python3"
  },
  "language_info": {
   "codemirror_mode": {
    "name": "ipython",
    "version": 2
   },
   "file_extension": ".py",
   "mimetype": "text/x-python",
   "name": "python",
   "nbconvert_exporter": "python",
   "pygments_lexer": "ipython2",
   "version": "2.7.6"
  }
 },
 "nbformat": 4,
 "nbformat_minor": 5
}
